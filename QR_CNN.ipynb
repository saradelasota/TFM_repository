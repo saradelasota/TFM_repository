{
  "nbformat": 4,
  "nbformat_minor": 0,
  "metadata": {
    "colab": {
      "provenance": [],
      "gpuType": "T4"
    },
    "kernelspec": {
      "name": "python3",
      "display_name": "Python 3"
    },
    "language_info": {
      "name": "python"
    },
    "accelerator": "GPU"
  },
  "cells": [
    {
      "cell_type": "code",
      "source": [
        "import pandas as pd\n",
        "import os\n",
        "import torch\n",
        "from torchvision import datasets, transforms\n",
        "from torch.utils.data import Dataset, DataLoader\n",
        "import zipfile\n",
        "from torch import nn\n",
        "from torch import optim\n",
        "import matplotlib.pyplot as plt\n",
        "import random\n",
        "import numpy as np\n",
        "import time as t"
      ],
      "metadata": {
        "id": "HkDXYKMLoSdt"
      },
      "execution_count": 15,
      "outputs": []
    },
    {
      "cell_type": "markdown",
      "source": [
        "## Extract images from zip file"
      ],
      "metadata": {
        "id": "ZhJd7fUJW7pd"
      }
    },
    {
      "cell_type": "code",
      "execution_count": 2,
      "metadata": {
        "colab": {
          "base_uri": "https://localhost:8080/"
        },
        "id": "F5eWX34xHH7m",
        "outputId": "3920a2ca-1412-46aa-aeb4-b1f89fb7a857"
      },
      "outputs": [
        {
          "output_type": "stream",
          "name": "stdout",
          "text": [
            "Total number of images: 11430\n",
            "All images have the desired format: True\n"
          ]
        }
      ],
      "source": [
        "# Path to the ZIP file\n",
        "zip_file_path = \"qr_images.zip\"\n",
        "\n",
        "# Extract the contents of the ZIP file\n",
        "with zipfile.ZipFile(zip_file_path, 'r') as zip_ref:\n",
        "    zip_ref.extractall(\"qr_images_extracted\")\n",
        "\n",
        "# List all files in the extracted folder\n",
        "extracted_files = os.listdir(\"qr_images_extracted/content/qr_images\")\n",
        "\n",
        "# Filter out files with the desired format\n",
        "matching_files = [filename for filename in extracted_files if filename.startswith(\"qr_code_\") and filename.endswith(\".png\")]\n",
        "\n",
        "# Check how many images there are and if all have the desired format\n",
        "total_images = len(extracted_files)\n",
        "matching_format = len(matching_files) == total_images\n",
        "\n",
        "print(f\"Total number of images: {total_images}\")\n",
        "print(f\"All images have the desired format: {matching_format}\")\n"
      ]
    },
    {
      "cell_type": "code",
      "source": [],
      "metadata": {
        "id": "ivbYq3LzuFQQ"
      },
      "execution_count": null,
      "outputs": []
    },
    {
      "cell_type": "markdown",
      "source": [
        "Check if there are any duplicates."
      ],
      "metadata": {
        "id": "OWgUrPuwXA6Y"
      }
    },
    {
      "cell_type": "code",
      "source": [
        "duplicate_files_indices = {}\n",
        "\n",
        "# Iterate through the list of filenames\n",
        "for index, filename in enumerate(extracted_files):\n",
        "    # If the filename already exists in the dictionary, add the current index to the list of indices\n",
        "    if filename in duplicate_files_indices:\n",
        "        duplicate_files_indices[filename].append(index)\n",
        "    else:\n",
        "        # If the filename is encountered for the first time, initialize a list with the current index\n",
        "        duplicate_files_indices[filename] = [index]\n",
        "# Filter out filenames with more than one index (indicating duplicates)\n",
        "duplicate_filenames = {filename: indices for filename, indices in duplicate_files_indices.items() if len(indices) > 1}\n",
        "\n",
        "# Print the indices of files with the same name\n",
        "if duplicate_filenames:\n",
        "    print(\"Files with the same name:\")\n",
        "    for filename, indices in duplicate_filenames.items():\n",
        "        print(f\"Filename: {filename}, Indices: {indices}\")\n",
        "else:\n",
        "    print(\"No files with the same name.\")"
      ],
      "metadata": {
        "colab": {
          "base_uri": "https://localhost:8080/"
        },
        "id": "RUe7zGbWJfh5",
        "outputId": "ffce445a-b58e-480a-d38d-0dadba9816cd"
      },
      "execution_count": 48,
      "outputs": [
        {
          "output_type": "stream",
          "name": "stdout",
          "text": [
            "No files with the same name.\n"
          ]
        }
      ]
    },
    {
      "cell_type": "markdown",
      "source": [
        "## Preprocessing of the images for the CNN"
      ],
      "metadata": {
        "id": "GOhH3TQPXHb8"
      }
    },
    {
      "cell_type": "code",
      "source": [
        "class CustomDataset(Dataset):\n",
        "    def __init__(self, data_dir, labels, transform=None):\n",
        "        self.data_dir = data_dir\n",
        "        self.labels = labels\n",
        "        self.transform = transform\n",
        "        self.image_paths = [os.path.join(data_dir, f\"qr_code_{idx}.png\") for idx in range(len(labels))]\n",
        "\n",
        "    def __len__(self):\n",
        "        return len(self.labels)\n",
        "\n",
        "    def __getitem__(self, idx):\n",
        "        img_name = os.path.join(self.data_dir, f\"qr_code_{idx}.png\")  # Assuming image filenames are indexed\n",
        "        image = datasets.folder.default_loader(img_name)\n",
        "        label = self.labels[idx]\n",
        "\n",
        "        if self.transform:\n",
        "            image = self.transform(image)\n",
        "\n",
        "        return image, label\n"
      ],
      "metadata": {
        "id": "qO0GwK7KG9lL"
      },
      "execution_count": 3,
      "outputs": []
    },
    {
      "cell_type": "markdown",
      "source": [
        "### Convert the images to Pytorch tensors and split the data"
      ],
      "metadata": {
        "id": "AzSHC1dIXPW7"
      }
    },
    {
      "cell_type": "code",
      "source": [
        "# Define the path to the folder containing images\n",
        "data_dir = \"qr_images_extracted/content/qr_images/\"\n",
        "#/content/qr_images_extracted/content/qr_images/qr_code_0.png\n",
        "# Load your data to extract target\n",
        "df = pd.read_csv(\"df_lexical_unscaled.csv\")\n",
        "\n",
        "# Extract labels from the 'target' column\n",
        "labels = df.iloc[:, -1].tolist()\n",
        "\n",
        "# Define transformations to apply to the images\n",
        "transform = transforms.Compose([\n",
        "    transforms.Resize((224, 224)),  # Resize images to a fixed size (you can adjust this)\n",
        "    transforms.Grayscale(num_output_channels=1),\n",
        "    transforms.ToTensor(),           # Convert images to PyTorch tensors\n",
        "])\n",
        "\n",
        "# Create the custom dataset\n",
        "custom_dataset = CustomDataset(data_dir, labels, transform=transform)\n",
        "\n",
        "# Split the dataset into train and test sets\n",
        "train_size = int(0.8 * len(custom_dataset))  # 80% of the data for training\n",
        "train_train_size = int(0.8 * train_size)\n",
        "train_validation_size =train_size -train_train_size\n",
        "test_size = len(custom_dataset) - train_size  # Remaining 20% for testing\n",
        "\n",
        "train_set, test_set = torch.utils.data.random_split(custom_dataset, [train_size, test_size])\n",
        "train_train, train_val = torch.utils.data.random_split(train_set, [train_train_size, train_validation_size])\n",
        "\n",
        "# Create data loaders for train and test sets\n",
        "#train_loader = torch.utils.data.DataLoader(train_set, batch_size=32, shuffle=True)\n",
        "#test_loader = torch.utils.data.DataLoader(test_set, batch_size=32, shuffle=False)\n",
        "\n",
        "# Update the creation of train_loader and test_loader\n",
        "train_loader = torch.utils.data.DataLoader(train_set.dataset, batch_size=32, shuffle=True)\n",
        "train_train_loader = torch.utils.data.DataLoader(train_train.dataset, batch_size=32, shuffle=True)\n",
        "train_val_loader = torch.utils.data.DataLoader(train_train.dataset, batch_size=32, shuffle=True)\n",
        "test_loader = torch.utils.data.DataLoader(test_set.dataset, batch_size=32, shuffle=False)\n"
      ],
      "metadata": {
        "id": "mYVa6Rr1neqv"
      },
      "execution_count": 4,
      "outputs": []
    },
    {
      "cell_type": "code",
      "source": [
        "traindata = iter(train_loader)\n",
        "\n",
        "images, labels = next(traindata)\n",
        "\n",
        "print(images[1].shape)"
      ],
      "metadata": {
        "colab": {
          "base_uri": "https://localhost:8080/"
        },
        "id": "uPmNIwkmk2eA",
        "outputId": "1f6856be-1da0-42b0-cd5d-3615d1168f8b"
      },
      "execution_count": 5,
      "outputs": [
        {
          "output_type": "stream",
          "name": "stdout",
          "text": [
            "torch.Size([1, 224, 224])\n"
          ]
        }
      ]
    },
    {
      "cell_type": "code",
      "source": [
        "import copy\n",
        "print(f'The number of qr codes in the train set is :{len(train_loader.dataset)}, therefore we will take {0.8*len(train_loader.dataset)} images for training and the rest of them for validate')\n",
        "valid_loader = copy.deepcopy(train_loader)  # Creates a copy of the object\n",
        "\n"
      ],
      "metadata": {
        "colab": {
          "base_uri": "https://localhost:8080/"
        },
        "id": "1EXlAc4_oz7D",
        "outputId": "20dd7541-da0d-458d-dc1f-568caf0615bf"
      },
      "execution_count": 41,
      "outputs": [
        {
          "output_type": "stream",
          "name": "stdout",
          "text": [
            "The number of qr codes in the train set is :11430, therefore we will take 9144.0 images for training and the rest of them for validate\n"
          ]
        }
      ]
    },
    {
      "cell_type": "code",
      "source": [
        "import torch\n",
        "import torch.nn as nn\n",
        "import torch.nn.functional as F\n",
        "\n",
        "class SimpleCNN(nn.Module):\n",
        "    def __init__(self):\n",
        "        super(SimpleCNN, self).__init__()\n",
        "        self.conv1 = nn.Conv2d(in_channels=1, out_channels=32, kernel_size=3, padding=1)\n",
        "        self.conv2 = nn.Conv2d(in_channels=32, out_channels=64, kernel_size=3, padding=1)\n",
        "        self.conv3 = nn.Conv2d(in_channels=64, out_channels=128, kernel_size=3, padding=1)\n",
        "        self.fc1 = nn.Linear(128 * 28 * 28, 128)\n",
        "        self.fc2 = nn.Linear(128, 2)  # 2 classes: legitimate or phishing\n",
        "\n",
        "    def forward(self, x):\n",
        "        x = F.relu(self.conv1(x))\n",
        "        x = F.max_pool2d(x, kernel_size=2, stride=2)\n",
        "        x = F.relu(self.conv2(x))\n",
        "        x = F.max_pool2d(x, kernel_size=2, stride=2)\n",
        "        x = F.relu(self.conv3(x))\n",
        "        x = F.max_pool2d(x, kernel_size=2, stride=2)\n",
        "        x = x.view(-1, 128 * 28 * 28)  # Flatten the tensor\n",
        "        x = F.relu(self.fc1(x))\n",
        "        x = self.fc2(x)\n",
        "        return x\n",
        "\n",
        "# Initialize the model\n",
        "model = SimpleCNN()\n",
        "\n",
        "# Define the loss function and optimizer\n",
        "criterion = nn.CrossEntropyLoss()\n",
        "optimizer = torch.optim.Adam(model.parameters(), lr=0.001)\n"
      ],
      "metadata": {
        "id": "SoAbyKbXb1gR"
      },
      "execution_count": 16,
      "outputs": []
    },
    {
      "cell_type": "code",
      "source": [
        "# Set seed for Python random module\n",
        "random_seed = 123\n",
        "random.seed(random_seed)\n",
        "\n",
        "# Set seed for NumPy\n",
        "np.random.seed(random_seed)\n",
        "\n",
        "# Set seed for PyTorch\n",
        "torch.manual_seed(random_seed)\n",
        "torch.cuda.manual_seed(random_seed)\n",
        "torch.backends.cudnn.deterministic = True\n",
        "torch.backends.cudnn.benchmark = False\n",
        "\n",
        "# Initialize lists to store loss and accuracy values\n",
        "train_losses = []\n",
        "val_losses = []\n",
        "accuracies = []\n",
        "\n",
        "# Define number of epochs\n",
        "num_epochs = 10\n",
        "\n",
        "# Move model to GPU if available\n",
        "device = torch.device(\"cuda\" if torch.cuda.is_available() else \"cpu\")\n",
        "if torch.cuda.is_available():\n",
        "  print('The CPCU is available')\n",
        "model.to(device)\n",
        "\n",
        "start = t.time()\n",
        "# Training loop\n",
        "for epoch in range(num_epochs):\n",
        "    # Set model to training mode\n",
        "    model.train()\n",
        "    running_loss = 0.0\n",
        "    for images, labels in train_train_loader:\n",
        "        # Move data to GPU if available\n",
        "        images, labels = images.to(device), labels.to(device)\n",
        "\n",
        "        # Zero the parameter gradients\n",
        "        optimizer.zero_grad()\n",
        "\n",
        "        # Forward pass\n",
        "        outputs = model(images)\n",
        "        loss = criterion(outputs, labels)\n",
        "\n",
        "        # Backward pass and optimize\n",
        "        loss.backward()\n",
        "        optimizer.step()\n",
        "\n",
        "        # Update running loss\n",
        "        running_loss += loss.item() * images.size(0)\n",
        "\n",
        "    # Calculate average loss for the epoch\n",
        "    epoch_loss = running_loss / len(train_train_loader.dataset)\n",
        "\n",
        "    # Print progress\n",
        "    print(f\"Epoch [{epoch+1}/{num_epochs}], Train Loss: {epoch_loss:.4f}\")\n",
        "    train_losses.append(epoch_loss)\n",
        "\n",
        "    end = t.time()\n",
        "    training_time = end-start\n",
        "    # Validation loop\n",
        "    model.eval()\n",
        "    val_loss = 0.0\n",
        "    correct = 0\n",
        "    total = 0\n",
        "    with torch.no_grad():\n",
        "        for images, labels in train_val_loader:\n",
        "            images, labels = images.to(device), labels.to(device)\n",
        "            outputs = model(images)\n",
        "            loss = criterion(outputs, labels)\n",
        "            val_loss += loss.item() * images.size(0)\n",
        "            _, predicted = torch.max(outputs, 1)\n",
        "            total += labels.size(0)\n",
        "            correct += (predicted == labels).sum().item()\n",
        "\n",
        "    # Calculate average validation loss\n",
        "    val_loss /= len(train_val_loader.dataset)\n",
        "\n",
        "    # Calculate accuracy\n",
        "    accuracy = correct / total\n",
        "    print(f\"Epoch [{epoch+1}/{num_epochs}], Validation Loss: {val_loss:.4f}, Accuracy: {accuracy:.4f}\")\n",
        "\n",
        "\n",
        "    # Append loss and accuracy values to lists\n",
        "    val_losses.append(val_loss)\n",
        "    accuracies.append(accuracy)\n",
        "print(\"Training finished.\")\n",
        "\n"
      ],
      "metadata": {
        "colab": {
          "base_uri": "https://localhost:8080/"
        },
        "id": "UoyS-vnTb8mU",
        "outputId": "e1007e7c-9e2c-4271-f3a4-e1b35a4c81f8"
      },
      "execution_count": 17,
      "outputs": [
        {
          "output_type": "stream",
          "name": "stdout",
          "text": [
            "The CPCU is available\n",
            "Epoch [1/10], Train Loss: 0.6704\n",
            "Epoch [1/10], Validation Loss: 0.6216, Accuracy: 0.6180\n",
            "Epoch [2/10], Train Loss: 0.6100\n",
            "Epoch [2/10], Validation Loss: 0.5592, Accuracy: 0.7123\n",
            "Epoch [3/10], Train Loss: 0.5354\n",
            "Epoch [3/10], Validation Loss: 0.4980, Accuracy: 0.7663\n",
            "Epoch [4/10], Train Loss: 0.4728\n",
            "Epoch [4/10], Validation Loss: 0.4113, Accuracy: 0.8177\n",
            "Epoch [5/10], Train Loss: 0.4181\n",
            "Epoch [5/10], Validation Loss: 0.3633, Accuracy: 0.8397\n",
            "Epoch [6/10], Train Loss: 0.3575\n",
            "Epoch [6/10], Validation Loss: 0.2848, Accuracy: 0.8741\n",
            "Epoch [7/10], Train Loss: 0.2833\n",
            "Epoch [7/10], Validation Loss: 0.2032, Accuracy: 0.9151\n",
            "Epoch [8/10], Train Loss: 0.2099\n",
            "Epoch [8/10], Validation Loss: 0.1289, Accuracy: 0.9555\n",
            "Epoch [9/10], Train Loss: 0.1446\n",
            "Epoch [9/10], Validation Loss: 0.1109, Accuracy: 0.9651\n",
            "Epoch [10/10], Train Loss: 0.0987\n",
            "Epoch [10/10], Validation Loss: 0.0764, Accuracy: 0.9752\n",
            "Training finished.\n"
          ]
        }
      ]
    },
    {
      "cell_type": "code",
      "source": [
        "print('Training execution time',round(training_time,2), 'seconds, so',round(training_time/60, 2) ,'minutes.')\n"
      ],
      "metadata": {
        "colab": {
          "base_uri": "https://localhost:8080/"
        },
        "id": "27ohwCogwDGx",
        "outputId": "261c3e76-d29f-4129-f085-97a4be59b846"
      },
      "execution_count": 25,
      "outputs": [
        {
          "output_type": "stream",
          "name": "stdout",
          "text": [
            "Training execution time 654.62 seconds, so 10.91 minutes.\n"
          ]
        }
      ]
    },
    {
      "cell_type": "code",
      "source": [
        "# Plotting\n",
        "plt.figure(figsize=(10, 5))\n",
        "\n",
        "# Plot training and validation losses\n",
        "plt.subplot(1, 2, 1)\n",
        "plt.plot(range(1, num_epochs + 1), train_losses, label='Train')\n",
        "plt.plot(range(1, num_epochs + 1), val_losses, label='Validation')\n",
        "plt.xlabel('Epochs')\n",
        "plt.ylabel('Loss')\n",
        "plt.title('Training and Validation Loss')\n",
        "plt.legend()\n",
        "\n",
        "# Plot accuracy\n",
        "plt.subplot(1, 2, 2)\n",
        "plt.plot(range(1, num_epochs + 1), accuracies, label='Accuracy', color='green')\n",
        "plt.xlabel('Epochs')\n",
        "plt.ylabel('Accuracy')\n",
        "plt.title('Accuracy')\n",
        "plt.legend()\n",
        "\n",
        "plt.tight_layout()\n",
        "plt.show()"
      ],
      "metadata": {
        "colab": {
          "base_uri": "https://localhost:8080/",
          "height": 507
        },
        "id": "3ZxOuNslg4DX",
        "outputId": "52095adb-ef7b-4cfb-a93b-78929a80bb30"
      },
      "execution_count": 26,
      "outputs": [
        {
          "output_type": "display_data",
          "data": {
            "text/plain": [
              "<Figure size 1000x500 with 2 Axes>"
            ],
            "image/png": "[encoded data removed]"
          },
          "metadata": {}
        }
      ]
    },
    {
      "cell_type": "code",
      "source": [
        "# Set model to evaluation mode\n",
        "model.eval()\n",
        "\n",
        "# Initialize variables for accuracy calculation\n",
        "correct = 0\n",
        "total = 0\n",
        "\n",
        "# Initialize lists to store predictions and ground truth labels\n",
        "all_predictions = []\n",
        "all_labels = []\n",
        "\n",
        "# Disable gradient computation for inference\n",
        "with torch.no_grad():\n",
        "    for images, labels in test_loader:\n",
        "        # Move data to GPU if available\n",
        "        images, labels = images.to(device), labels.to(device)\n",
        "\n",
        "        # Forward pass\n",
        "        outputs = model(images)\n",
        "\n",
        "        # Get predictions\n",
        "        _, predicted = torch.max(outputs.data, 1)\n",
        "\n",
        "        # Update total count of samples\n",
        "        total += labels.size(0)\n",
        "\n",
        "        # Update count of correct predictions\n",
        "        correct += (predicted == labels).sum().item()\n",
        "\n",
        "        # Store predictions and ground truth labels\n",
        "        all_predictions.extend(predicted.cpu().numpy())\n",
        "        all_labels.extend(labels.cpu().numpy())\n",
        "\n",
        "# Calculate accuracy\n",
        "accuracy = correct / total\n",
        "print(f\"Test Accuracy: {accuracy:.4f}\")\n"
      ],
      "metadata": {
        "colab": {
          "base_uri": "https://localhost:8080/"
        },
        "id": "zx3kMJvIpKqu",
        "outputId": "a460e316-5102-4091-ecfb-59f561e35c8c"
      },
      "execution_count": 27,
      "outputs": [
        {
          "output_type": "stream",
          "name": "stdout",
          "text": [
            "Test Accuracy: 0.9229\n"
          ]
        }
      ]
    },
    {
      "cell_type": "code",
      "source": [
        "import torch\n",
        "from sklearn.metrics import precision_score, recall_score, f1_score, accuracy_score\n",
        "\n",
        "# Calculate precision, recall, and F1-score\n",
        "accuracy = accuracy_score(all_labels, all_predictions)\n",
        "precision = precision_score(all_labels, all_predictions, average='weighted')\n",
        "recall = recall_score(all_labels, all_predictions, average='weighted')\n",
        "f1 = f1_score(all_labels, all_predictions, average='weighted')\n",
        "\n",
        "print(f\"Accuracy:{accuracy:.4f}, Precision: {precision:.4f}, Recall: {recall:.4f}, F1-score: {f1:.4f}\")\n"
      ],
      "metadata": {
        "colab": {
          "base_uri": "https://localhost:8080/"
        },
        "id": "lI6tfizv3XvE",
        "outputId": "63f9169a-51c5-4e8f-bd54-7d69782f1f66"
      },
      "execution_count": 30,
      "outputs": [
        {
          "output_type": "stream",
          "name": "stdout",
          "text": [
            "Accuracy:0.9229, Precision: 0.9237, Recall: 0.9229, F1-score: 0.9229\n"
          ]
        }
      ]
    }
  ]
}