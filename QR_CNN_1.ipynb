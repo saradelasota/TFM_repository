{
  "nbformat": 4,
  "nbformat_minor": 0,
  "metadata": {
    "colab": {
      "provenance": [],
      "gpuType": "T4"
    },
    "kernelspec": {
      "name": "python3",
      "display_name": "Python 3"
    },
    "language_info": {
      "name": "python"
    },
    "accelerator": "GPU"
  },
  "cells": [
    {
      "cell_type": "code",
      "source": [
        "import pandas as pd\n",
        "import os\n",
        "import torch\n",
        "from torchvision import datasets, transforms\n",
        "from torch.utils.data import Dataset, DataLoader\n",
        "import zipfile\n",
        "from torch import nn\n",
        "from torch import optim\n",
        "import matplotlib.pyplot as plt\n",
        "import random\n",
        "import numpy as np\n",
        "import time as t"
      ],
      "metadata": {
        "id": "HkDXYKMLoSdt"
      },
      "execution_count": 2,
      "outputs": []
    },
    {
      "cell_type": "markdown",
      "source": [
        "## Extract images from zip file"
      ],
      "metadata": {
        "id": "ZhJd7fUJW7pd"
      }
    },
    {
      "cell_type": "markdown",
      "source": [],
      "metadata": {
        "id": "cfWUjiTZ0rXE"
      }
    },
    {
      "cell_type": "code",
      "execution_count": 3,
      "metadata": {
        "colab": {
          "base_uri": "https://localhost:8080/"
        },
        "id": "F5eWX34xHH7m",
        "outputId": "f12d526d-45d1-4f24-f5d5-0bd12fe5a210"
      },
      "outputs": [
        {
          "output_type": "stream",
          "name": "stdout",
          "text": [
            "Total number of images: 11430\n",
            "All images have the desired format: True\n"
          ]
        }
      ],
      "source": [
        "# Path to the ZIP file\n",
        "zip_file_path = \"qr_images.zip\"\n",
        "\n",
        "# Extract the contents of the ZIP file\n",
        "with zipfile.ZipFile(zip_file_path, 'r') as zip_ref:\n",
        "    zip_ref.extractall(\"qr_images_extracted\")\n",
        "\n",
        "# List all files in the extracted folder\n",
        "extracted_files = os.listdir(\"qr_images_extracted/content/qr_images\")\n",
        "\n",
        "# Filter out files with the desired format\n",
        "matching_files = [filename for filename in extracted_files if filename.startswith(\"qr_code_\") and filename.endswith(\".png\")]\n",
        "\n",
        "# Check how many images there are and if all have the desired format\n",
        "total_images = len(extracted_files)\n",
        "matching_format = len(matching_files) == total_images\n",
        "\n",
        "print(f\"Total number of images: {total_images}\")\n",
        "print(f\"All images have the desired format: {matching_format}\")\n"
      ]
    },
    {
      "cell_type": "markdown",
      "source": [
        "Check if there are any duplicates."
      ],
      "metadata": {
        "id": "OWgUrPuwXA6Y"
      }
    },
    {
      "cell_type": "code",
      "source": [
        "duplicate_files_indices = {}\n",
        "\n",
        "# Iterate through the list of filenames\n",
        "for index, filename in enumerate(extracted_files):\n",
        "    # If the filename already exists in the dictionary, add the current index to the list of indices\n",
        "    if filename in duplicate_files_indices:\n",
        "        duplicate_files_indices[filename].append(index)\n",
        "    else:\n",
        "        # If the filename is encountered for the first time, initialize a list with the current index\n",
        "        duplicate_files_indices[filename] = [index]\n",
        "# Filter out filenames with more than one index (indicating duplicates)\n",
        "duplicate_filenames = {filename: indices for filename, indices in duplicate_files_indices.items() if len(indices) > 1}\n",
        "\n",
        "# Print the indices of files with the same name\n",
        "if duplicate_filenames:\n",
        "    print(\"Files with the same name:\")\n",
        "    for filename, indices in duplicate_filenames.items():\n",
        "        print(f\"Filename: {filename}, Indices: {indices}\")\n",
        "else:\n",
        "    print(\"No files with the same name.\")"
      ],
      "metadata": {
        "colab": {
          "base_uri": "https://localhost:8080/"
        },
        "id": "RUe7zGbWJfh5",
        "outputId": "ffce445a-b58e-480a-d38d-0dadba9816cd"
      },
      "execution_count": null,
      "outputs": [
        {
          "output_type": "stream",
          "name": "stdout",
          "text": [
            "No files with the same name.\n"
          ]
        }
      ]
    },
    {
      "cell_type": "markdown",
      "source": [
        "## Preprocessing of the images for the CNN"
      ],
      "metadata": {
        "id": "GOhH3TQPXHb8"
      }
    },
    {
      "cell_type": "code",
      "source": [
        "class CustomDataset(Dataset):\n",
        "    def __init__(self, data_dir, labels, transform=None):\n",
        "        self.data_dir = data_dir\n",
        "        self.labels = labels\n",
        "        self.transform = transform\n",
        "        self.image_paths = [os.path.join(data_dir, f\"qr_code_{idx}.png\") for idx in range(len(labels))]\n",
        "\n",
        "    def __len__(self):\n",
        "        return len(self.labels)\n",
        "\n",
        "    def __getitem__(self, idx):\n",
        "        img_name = os.path.join(self.data_dir, f\"qr_code_{idx}.png\")\n",
        "        image = datasets.folder.default_loader(img_name)\n",
        "        label = self.labels[idx]\n",
        "\n",
        "        if self.transform:\n",
        "            image = self.transform(image)\n",
        "\n",
        "        return image, label\n"
      ],
      "metadata": {
        "id": "qO0GwK7KG9lL"
      },
      "execution_count": 4,
      "outputs": []
    },
    {
      "cell_type": "markdown",
      "source": [
        "\n",
        "### Convert the images to Pytorch tensors and split the data"
      ],
      "metadata": {
        "id": "AzSHC1dIXPW7"
      }
    },
    {
      "cell_type": "code",
      "source": [
        "random_seed = 123\n",
        "torch.manual_seed(random_seed)\n",
        "\n",
        "\n",
        "# Define the path to the folder containing images\n",
        "data_dir = \"qr_images_extracted/content/qr_images/\"\n",
        "#/content/qr_images_extracted/content/qr_images/qr_code_0.png\n",
        "# Load your data to extract target\n",
        "df = pd.read_csv(\"df_lexical_unscaled.csv\")\n",
        "\n",
        "# Extract labels from the 'target' column\n",
        "labels = df.iloc[:, -1].tolist()\n",
        "\n",
        "# Define transformations to apply to the images\n",
        "transform = transforms.Compose([\n",
        "    transforms.Resize((224, 224)),  # Resize images to a fixed size\n",
        "    transforms.Grayscale(num_output_channels=1),\n",
        "    transforms.ToTensor(),           # Convert images to PyTorch tensors\n",
        "])\n",
        "\n",
        "# Create the custom dataset\n",
        "custom_dataset = CustomDataset(data_dir, labels, transform=transform)\n",
        "\n",
        "# Split the dataset into train and test sets\n",
        "train_size = int(0.8 * len(custom_dataset))  # 80% of the data for training\n",
        "train_train_size = int(0.8 * train_size)\n",
        "train_validation_size =train_size -train_train_size\n",
        "test_size = len(custom_dataset) - train_size  # Remaining 20% for testing\n",
        "\n",
        "train_set, test_set = torch.utils.data.random_split(custom_dataset, [train_size, test_size])\n",
        "train_train, train_val = torch.utils.data.random_split(train_set, [train_train_size, train_validation_size])\n",
        "\n",
        "\n",
        "# Update the creation of train_loader and test_loader\n",
        "train_loader = torch.utils.data.DataLoader(train_set.dataset, batch_size=32, shuffle=True)\n",
        "train_train_loader = torch.utils.data.DataLoader(train_train.dataset, batch_size=32, shuffle=True)\n",
        "train_val_loader = torch.utils.data.DataLoader(train_val.dataset, batch_size=32, shuffle=True)\n",
        "test_loader = torch.utils.data.DataLoader(test_set.dataset, batch_size=32, shuffle=False)\n"
      ],
      "metadata": {
        "id": "mYVa6Rr1neqv"
      },
      "execution_count": 5,
      "outputs": []
    },
    {
      "cell_type": "code",
      "source": [
        "traindata = iter(train_loader)\n",
        "\n",
        "images, labels = next(traindata)\n",
        "\n",
        "print(images[1].shape)"
      ],
      "metadata": {
        "colab": {
          "base_uri": "https://localhost:8080/"
        },
        "id": "uPmNIwkmk2eA",
        "outputId": "cae8d675-3f80-44e4-8b25-1dd09eb07883"
      },
      "execution_count": 6,
      "outputs": [
        {
          "output_type": "stream",
          "name": "stdout",
          "text": [
            "torch.Size([1, 224, 224])\n"
          ]
        }
      ]
    },
    {
      "cell_type": "code",
      "source": [
        "import copy\n",
        "print(f'The number of qr codes in the train set is :{len(train_loader.dataset)}, therefore we will take {0.8*len(train_loader.dataset)} images for training and the rest of them for validate')\n",
        "#valid_loader = copy.deepcopy(train_loader)  # Creates a copy of the object\n",
        "\n"
      ],
      "metadata": {
        "colab": {
          "base_uri": "https://localhost:8080/"
        },
        "id": "1EXlAc4_oz7D",
        "outputId": "4e7ac91a-73fb-40c5-8850-2987e28f173a"
      },
      "execution_count": 6,
      "outputs": [
        {
          "output_type": "stream",
          "name": "stdout",
          "text": [
            "The number of qr codes in the train set is :11430, therefore we will take 9144.0 images for training and the rest of them for validate\n"
          ]
        }
      ]
    },
    {
      "cell_type": "code",
      "source": [
        "import torch\n",
        "import torch.nn as nn\n",
        "import torch.nn.functional as F\n",
        "from PIL import Image\n",
        "\n",
        "class SimpleCNN(nn.Module):\n",
        "    def __init__(self):\n",
        "        super(SimpleCNN, self).__init__()\n",
        "        self.conv1 = nn.Conv2d(in_channels=1, out_channels=32, kernel_size=3, padding=1)\n",
        "        self.conv2 = nn.Conv2d(in_channels=32, out_channels=64, kernel_size=3, padding=1)\n",
        "        self.conv3 = nn.Conv2d(in_channels=64, out_channels=128, kernel_size=3, padding=1)\n",
        "        self.fc1 = nn.Linear(128 * 28 * 28, 128)\n",
        "        self.fc2 = nn.Linear(128, 2)  # 2 classes: legitimate or phishing\n",
        "\n",
        "    def forward(self, x):\n",
        "        x = F.relu(self.conv1(x))\n",
        "        x = F.max_pool2d(x, kernel_size=2, stride=2)\n",
        "        x = F.relu(self.conv2(x))\n",
        "        x = F.max_pool2d(x, kernel_size=2, stride=2)\n",
        "        x = F.relu(self.conv3(x))\n",
        "        x = F.max_pool2d(x, kernel_size=2, stride=2)\n",
        "        x = x.view(-1, 128 * 28 * 28)  # Flatten the tensor\n",
        "        x = F.relu(self.fc1(x))\n",
        "        x = self.fc2(x)\n",
        "        return x\n",
        "\n",
        "\n",
        "    def predict(self, image_path, device):\n",
        "        # Define the transformation to preprocess the image\n",
        "        transform = transforms.Compose([\n",
        "            transforms.Grayscale(num_output_channels=1),\n",
        "            transforms.Resize((28, 28)),\n",
        "            transforms.ToTensor(),\n",
        "            transforms.Normalize((0.5,), (0.5,))\n",
        "        ])\n",
        "\n",
        "        # Load and preprocess the image\n",
        "        image = Image.open(image_path)\n",
        "        image = transform(image).unsqueeze(0).to(device)  # Add batch dimension and move to device\n",
        "\n",
        "        # Set model to evaluation mode\n",
        "        self.eval()\n",
        "\n",
        "        # Make prediction\n",
        "        with torch.no_grad():\n",
        "            outputs = self.forward(image)\n",
        "            _, predicted = torch.max(outputs, 1)\n",
        "\n",
        "        return predicted.item()\n",
        "# Initialize the model\n",
        "model = SimpleCNN()\n",
        "\n",
        "# Define the loss function and optimizer\n",
        "criterion = nn.CrossEntropyLoss()\n",
        "optimizer = torch.optim.Adam(model.parameters(), lr=0.001)\n"
      ],
      "metadata": {
        "id": "SoAbyKbXb1gR"
      },
      "execution_count": 7,
      "outputs": []
    },
    {
      "cell_type": "code",
      "source": [
        "# Set seed for Python random module\n",
        "random_seed = 123\n",
        "\n",
        "# Set seed for NumPy\n",
        "random.seed(random_seed)\n",
        "\n",
        "# Set seed for PyTorch\n",
        "torch.manual_seed(random_seed)\n",
        "torch.cuda.manual_seed(random_seed)\n",
        "torch.backends.cudnn.deterministic = True\n",
        "torch.backends.cudnn.benchmark = False\n",
        "\n",
        "# Initialize lists to store loss and accuracy values\n",
        "train_losses = []\n",
        "val_losses = []\n",
        "accuracies = []\n",
        "\n",
        "# Define number of epochs\n",
        "num_epochs = 15\n",
        "\n",
        "# Move model to GPU if available\n",
        "device = torch.device(\"cuda\" if torch.cuda.is_available() else \"cpu\")\n",
        "if torch.cuda.is_available():\n",
        "  print('The cuda is available')\n",
        "model.to(device)\n",
        "\n",
        "start = t.time()\n",
        "best_val_accuracy = 0\n",
        "# Training loop\n",
        "for epoch in range(num_epochs):\n",
        "    # Set model to training mode\n",
        "    model.train()\n",
        "    running_loss = 0.0\n",
        "    for images, labels in train_train_loader:\n",
        "        # Move data to GPU if available\n",
        "        images, labels = images.to(device), labels.to(device)\n",
        "\n",
        "        # Zero the parameter gradients\n",
        "        optimizer.zero_grad()\n",
        "\n",
        "        # Forward pass\n",
        "        outputs = model(images)\n",
        "        loss = criterion(outputs, labels)\n",
        "\n",
        "        # Backward pass and optimize\n",
        "        loss.backward()\n",
        "        optimizer.step()\n",
        "\n",
        "        # Update running loss\n",
        "        running_loss += loss.item() * images.size(0)\n",
        "\n",
        "    # Calculate average loss for the epoch\n",
        "    epoch_loss = running_loss / len(train_train_loader.dataset)\n",
        "\n",
        "    # Print progress\n",
        "    print(f\"Epoch [{epoch+1}/{num_epochs}], Train Loss: {epoch_loss:.4f}\")\n",
        "    train_losses.append(epoch_loss)\n",
        "\n",
        "    end = t.time()\n",
        "    training_time = end-start\n",
        "\n",
        "    # Validation loop\n",
        "    model.eval()\n",
        "    val_loss = 0.0\n",
        "    correct = 0\n",
        "    total = 0\n",
        "    with torch.no_grad():\n",
        "        for images, labels in train_val_loader:\n",
        "            images, labels = images.to(device), labels.to(device)\n",
        "            outputs = model(images)\n",
        "            loss = criterion(outputs, labels)\n",
        "            val_loss += loss.item() * images.size(0)\n",
        "            _, predicted = torch.max(outputs, 1)\n",
        "            total += labels.size(0)\n",
        "            correct += (predicted == labels).sum().item()\n",
        "\n",
        "    # Calculate average validation loss\n",
        "    val_loss /= len(train_val_loader.dataset)\n",
        "\n",
        "    # Calculate accuracy\n",
        "    accuracy = correct / total\n",
        "    print(f\"Epoch [{epoch+1}/{num_epochs}], Validation Loss: {val_loss:.4f}, Accuracy: {accuracy:.4f}\")\n",
        "\n",
        "    # Check if current validation accuracy is better than the previous best\n",
        "    if accuracy > best_val_accuracy:\n",
        "        best_val_accuracy = accuracy\n",
        "        # Save the model\n",
        "        model_path = 'simple_cnn_model.pkl'\n",
        "        torch.save(model.state_dict(),model_path)\n",
        "\n",
        "    # Append loss and accuracy values to lists\n",
        "    val_losses.append(val_loss)\n",
        "    accuracies.append(accuracy)\n",
        "print(\"Training finished.\")"
      ],
      "metadata": {
        "colab": {
          "base_uri": "https://localhost:8080/"
        },
        "id": "UoyS-vnTb8mU",
        "outputId": "5bf44878-de4b-451d-949d-4d1385d877f4"
      },
      "execution_count": 8,
      "outputs": [
        {
          "output_type": "stream",
          "name": "stdout",
          "text": [
            "The cuda is available\n",
            "Epoch [1/15], Train Loss: 0.6738\n",
            "Epoch [1/15], Validation Loss: 0.6519, Accuracy: 0.5866\n",
            "Epoch [2/15], Train Loss: 0.5728\n",
            "Epoch [2/15], Validation Loss: 0.4959, Accuracy: 0.7524\n",
            "Epoch [3/15], Train Loss: 0.4987\n",
            "Epoch [3/15], Validation Loss: 0.4265, Accuracy: 0.8071\n",
            "Epoch [4/15], Train Loss: 0.4155\n",
            "Epoch [4/15], Validation Loss: 0.3299, Accuracy: 0.8622\n",
            "Epoch [5/15], Train Loss: 0.3272\n",
            "Epoch [5/15], Validation Loss: 0.2232, Accuracy: 0.9112\n",
            "Epoch [6/15], Train Loss: 0.2273\n",
            "Epoch [6/15], Validation Loss: 0.1766, Accuracy: 0.9455\n",
            "Epoch [7/15], Train Loss: 0.1580\n",
            "Epoch [7/15], Validation Loss: 0.0876, Accuracy: 0.9694\n",
            "Epoch [8/15], Train Loss: 0.0879\n",
            "Epoch [8/15], Validation Loss: 0.0542, Accuracy: 0.9824\n",
            "Epoch [9/15], Train Loss: 0.0534\n",
            "Epoch [9/15], Validation Loss: 0.0571, Accuracy: 0.9813\n",
            "Epoch [10/15], Train Loss: 0.0556\n",
            "Epoch [10/15], Validation Loss: 0.0287, Accuracy: 0.9931\n",
            "Epoch [11/15], Train Loss: 0.0374\n",
            "Epoch [11/15], Validation Loss: 0.0194, Accuracy: 0.9950\n",
            "Epoch [12/15], Train Loss: 0.0203\n",
            "Epoch [12/15], Validation Loss: 0.0300, Accuracy: 0.9897\n",
            "Epoch [13/15], Train Loss: 0.0280\n",
            "Epoch [13/15], Validation Loss: 0.0140, Accuracy: 0.9958\n",
            "Epoch [14/15], Train Loss: 0.0304\n",
            "Epoch [14/15], Validation Loss: 0.0337, Accuracy: 0.9862\n",
            "Epoch [15/15], Train Loss: 0.0123\n",
            "Epoch [15/15], Validation Loss: 0.0059, Accuracy: 0.9983\n",
            "Training finished.\n"
          ]
        }
      ]
    },
    {
      "cell_type": "code",
      "source": [
        "print('Training execution time',round(training_time,2), 'seconds, so',round(training_time/60, 2) ,'minutes.')\n"
      ],
      "metadata": {
        "colab": {
          "base_uri": "https://localhost:8080/"
        },
        "id": "27ohwCogwDGx",
        "outputId": "31f1443e-ca74-4576-ddf7-42f3d6943d7c"
      },
      "execution_count": 9,
      "outputs": [
        {
          "output_type": "stream",
          "name": "stdout",
          "text": [
            "Training execution time 980.17 seconds, so 16.34 minutes.\n"
          ]
        }
      ]
    },
    {
      "cell_type": "code",
      "source": [
        "# Plotting\n",
        "plt.figure(figsize=(10, 5))\n",
        "\n",
        "# Plot training and validation losses\n",
        "plt.subplot(1, 2, 1)\n",
        "plt.plot(range(1, num_epochs + 1), train_losses, label='Train')\n",
        "plt.plot(range(1, num_epochs + 1), val_losses, label='Validation')\n",
        "plt.xlabel('Epochs')\n",
        "plt.ylabel('Loss')\n",
        "plt.title('Training and Validation Loss')\n",
        "plt.legend()\n",
        "\n",
        "# Plot accuracy\n",
        "plt.subplot(1, 2, 2)\n",
        "plt.plot(range(1, num_epochs + 1), accuracies, label='Accuracy', color='green')\n",
        "plt.xlabel('Epochs')\n",
        "plt.ylabel('Accuracy')\n",
        "plt.title('Accuracy')\n",
        "plt.legend()\n",
        "\n",
        "plt.tight_layout()\n",
        "plt.show()"
      ],
      "metadata": {
        "colab": {
          "base_uri": "https://localhost:8080/",
          "height": 507
        },
        "id": "3ZxOuNslg4DX",
        "outputId": "39a3a7d2-3af8-45c2-f9ad-26262d893ae1"
      },
      "execution_count": 10,
      "outputs": [
        {
          "output_type": "display_data",
          "data": {
            "text/plain": [
              "<Figure size 1000x500 with 2 Axes>"
            ],
            "image/png": "[encoded data removed]"
          },
          "metadata": {}
        }
      ]
    },
    {
      "cell_type": "code",
      "source": [
        "random.seed(random_seed)\n",
        "\n",
        "# Set model to evaluation mode\n",
        "model.eval()\n",
        "\n",
        "# Initialize variables for accuracy calculation\n",
        "correct = 0\n",
        "total = 0\n",
        "\n",
        "# Initialize lists to store predictions and ground truth labels\n",
        "all_predictions = []\n",
        "all_labels = []\n",
        "\n",
        "# Disable gradient computation for inference\n",
        "with torch.no_grad():\n",
        "    for images, labels in test_loader:\n",
        "        # Move data to GPU if available\n",
        "        images, labels = images.to(device), labels.to(device)\n",
        "\n",
        "        # Forward pass\n",
        "        outputs = model(images)\n",
        "\n",
        "        # Get predictions\n",
        "        _, predicted = torch.max(outputs.data, 1)\n",
        "\n",
        "        # Update total count of samples\n",
        "        total += labels.size(0)\n",
        "\n",
        "        # Update count of correct predictions\n",
        "        correct += (predicted == labels).sum().item()\n",
        "\n",
        "        # Store predictions and ground truth labels\n",
        "        all_predictions.extend(predicted.cpu().numpy())\n",
        "        all_labels.extend(labels.cpu().numpy())\n",
        "\n",
        "# Calculate accuracy\n",
        "accuracy = correct / total\n",
        "print(f\"Test Accuracy: {accuracy:.4f}\")\n"
      ],
      "metadata": {
        "colab": {
          "base_uri": "https://localhost:8080/"
        },
        "id": "zx3kMJvIpKqu",
        "outputId": "ed9b0cb7-beb4-44da-e8cc-6da8868fb6ee"
      },
      "execution_count": 11,
      "outputs": [
        {
          "output_type": "stream",
          "name": "stdout",
          "text": [
            "Test Accuracy: 0.9419\n"
          ]
        }
      ]
    },
    {
      "cell_type": "code",
      "source": [
        "import torch\n",
        "from sklearn.metrics import precision_score, recall_score, f1_score, accuracy_score\n",
        "\n",
        "# Calculate precision, recall, and F1-score\n",
        "accuracy = accuracy_score(all_labels, all_predictions)\n",
        "precision = precision_score(all_labels, all_predictions, average='weighted')\n",
        "recall = recall_score(all_labels, all_predictions, average='weighted')\n",
        "f1 = f1_score(all_labels, all_predictions, average='weighted')\n",
        "\n",
        "print(f\"Accuracy:{accuracy:.4f}, Precision: {precision:.4f}, Recall: {recall:.4f}, F1-score: {f1:.4f}\")\n"
      ],
      "metadata": {
        "colab": {
          "base_uri": "https://localhost:8080/"
        },
        "id": "lI6tfizv3XvE",
        "outputId": "00d5c41d-bb7f-4431-f140-54a2a9aed1bf"
      },
      "execution_count": 12,
      "outputs": [
        {
          "output_type": "stream",
          "name": "stdout",
          "text": [
            "Accuracy:0.9419, Precision: 0.9419, Recall: 0.9419, F1-score: 0.9419\n"
          ]
        }
      ]
    },
    {
      "cell_type": "code",
      "source": [
        "# Assuming train_train_loader and train_val_loader are DataLoaders\n",
        "full_train_dataset = torch.utils.data.ConcatDataset([train_train_loader.dataset, train_val_loader.dataset])\n",
        "full_train_loader = torch.utils.data.DataLoader(full_train_dataset, batch_size=32, shuffle=True)\n"
      ],
      "metadata": {
        "id": "L3IjRmd9cyXm"
      },
      "execution_count": 13,
      "outputs": []
    },
    {
      "cell_type": "code",
      "source": [
        "# Initialize lists to store loss and accuracy values\n",
        "train_losses = []\n",
        "\n",
        "# Define number of epochs\n",
        "num_epochs = 15\n",
        "\n",
        "# Move model to GPU if available\n",
        "device = torch.device(\"cuda\" if torch.cuda.is_available() else \"cpu\")\n",
        "if torch.cuda.is_available():\n",
        "    print('The GPU is available')\n",
        "model.to(device)\n",
        "\n",
        "start = t.time()\n",
        "\n",
        "# Training loop\n",
        "for epoch in range(num_epochs):\n",
        "    # Set model to training mode\n",
        "    model.train()\n",
        "    running_loss = 0.0\n",
        "    for images, labels in full_train_loader:\n",
        "        # Move data to GPU if available\n",
        "        images, labels = images.to(device), labels.to(device)\n",
        "\n",
        "        # Zero the parameter gradients\n",
        "        optimizer.zero_grad()\n",
        "\n",
        "        # Forward pass\n",
        "        outputs = model(images)\n",
        "        loss = criterion(outputs, labels)\n",
        "\n",
        "        # Backward pass and optimize\n",
        "        loss.backward()\n",
        "        optimizer.step()\n",
        "\n",
        "        # Update running loss\n",
        "        running_loss += loss.item() * images.size(0)\n",
        "\n",
        "    # Calculate average loss for the epoch\n",
        "    epoch_loss = running_loss / len(full_train_loader.dataset)\n",
        "\n",
        "    # Print progress\n",
        "    print(f\"Epoch [{epoch+1}/{num_epochs}], Train Loss: {epoch_loss:.4f}\")\n",
        "    train_losses.append(epoch_loss)\n",
        "\n",
        "end = t.time()\n",
        "training_time = end - start\n",
        "print(f\"Training finished in {training_time:.2f} seconds.\")\n",
        "\n",
        "# Save the model\n",
        "model_path = 'simple_cnn_model_complete.pkl'\n",
        "torch.save(model.state_dict(), model_path)\n",
        "print(f\"Model saved to {model_path}\")\n"
      ],
      "metadata": {
        "colab": {
          "base_uri": "https://localhost:8080/"
        },
        "id": "RV8NN6Ufp_TM",
        "outputId": "bbb68041-27b9-44d3-8057-fa1b09e9e925"
      },
      "execution_count": 15,
      "outputs": [
        {
          "output_type": "stream",
          "name": "stdout",
          "text": [
            "The GPU is available\n",
            "Epoch [1/15], Train Loss: 0.0179\n",
            "Epoch [2/15], Train Loss: 0.0146\n",
            "Epoch [3/15], Train Loss: 0.0068\n",
            "Epoch [4/15], Train Loss: 0.0257\n",
            "Epoch [5/15], Train Loss: 0.0146\n",
            "Epoch [6/15], Train Loss: 0.0048\n",
            "Epoch [7/15], Train Loss: 0.0173\n",
            "Epoch [8/15], Train Loss: 0.0116\n",
            "Epoch [9/15], Train Loss: 0.0102\n",
            "Epoch [10/15], Train Loss: 0.0039\n",
            "Epoch [11/15], Train Loss: 0.0169\n",
            "Epoch [12/15], Train Loss: 0.0045\n",
            "Epoch [13/15], Train Loss: 0.0002\n",
            "Epoch [14/15], Train Loss: 0.0001\n",
            "Epoch [15/15], Train Loss: 0.0001\n",
            "Training finished in 1166.67 seconds.\n",
            "Model saved to simple_cnn_model_complete.pkl\n"
          ]
        }
      ]
    }
  ]
}