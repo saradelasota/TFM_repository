{
  "nbformat": 4,
  "nbformat_minor": 0,
  "metadata": {
    "colab": {
      "provenance": [],
      "authorship_tag": "ABX9TyNZdQD/7UlXkbiD91mJU8JA",
      "include_colab_link": true
    },
    "kernelspec": {
      "name": "python3",
      "display_name": "Python 3"
    },
    "language_info": {
      "name": "python"
    }
  },
  "cells": [
    {
      "cell_type": "markdown",
      "metadata": {
        "id": "view-in-github",
        "colab_type": "text"
      },
      "source": [
        "<a href=\"https://colab.research.google.com/github/saradelasota/TFM_repository/blob/main/TFM_colab.ipynb\" target=\"_parent\"><img src=\"https://colab.research.google.com/assets/colab-badge.svg\" alt=\"Open In Colab\"/></a>"
      ]
    },
    {
      "cell_type": "markdown",
      "source": [
        "# TFM"
      ],
      "metadata": {
        "id": "q5V0D54PoYBA"
      }
    },
    {
      "cell_type": "code",
      "source": [
        "# IMPORT LIBRAIES\n",
        "import pandas as pd\n",
        "from sklearn.model_selection import train_test_split\n",
        "from sklearn.model_selection import GridSearchCV\n",
        "from sklearn.metrics import accuracy_score,precision_score,recall_score,f1_score\n",
        "import time\n",
        "\n",
        "\n",
        "#TREE\n",
        "from sklearn.tree import DecisionTreeClassifier\n",
        "#RandomForest\n",
        "from sklearn.ensemble import RandomForestClassifier\n"
      ],
      "metadata": {
        "id": "WbINcapBd7n2"
      },
      "execution_count": null,
      "outputs": []
    },
    {
      "cell_type": "code",
      "source": [
        "model_evaluations={}"
      ],
      "metadata": {
        "id": "I_wgP_tpujA8"
      },
      "execution_count": null,
      "outputs": []
    },
    {
      "cell_type": "markdown",
      "source": [
        "## DATA PREPARATION"
      ],
      "metadata": {
        "id": "bOZeDHx_v_Ym"
      }
    },
    {
      "cell_type": "code",
      "source": [
        "# Read the CSV file\n",
        "df = pd.read_csv('dataset_B_05_2020.csv')  # Replace 'your_dataset.csv' with the path to your dataset\n"
      ],
      "metadata": {
        "id": "jWupP-MBgNks"
      },
      "execution_count": null,
      "outputs": []
    },
    {
      "cell_type": "markdown",
      "source": [
        "The data set contains 87 extracted features, the column with the url, and the status column. Features are from three different classes: 56 extracted from the structure and syntax of URLs, 24 extracted from the content of their correspondent pages and 7 are extracetd by querying external services."
      ],
      "metadata": {
        "id": "Cc6pX-gHn4Ja"
      }
    },
    {
      "cell_type": "code",
      "source": [
        "print(len(df.columns))\n",
        "df.columns"
      ],
      "metadata": {
        "colab": {
          "base_uri": "https://localhost:8080/"
        },
        "id": "Hk1LvrF2jazt",
        "outputId": "2b287189-6211-46db-c934-e86c481b38b3"
      },
      "execution_count": null,
      "outputs": [
        {
          "output_type": "stream",
          "name": "stdout",
          "text": [
            "89\n"
          ]
        },
        {
          "output_type": "execute_result",
          "data": {
            "text/plain": [
              "Index(['url', 'length_url', 'length_hostname', 'ip', 'nb_dots', 'nb_hyphens',\n",
              "       'nb_at', 'nb_qm', 'nb_and', 'nb_or', 'nb_eq', 'nb_underscore',\n",
              "       'nb_tilde', 'nb_percent', 'nb_slash', 'nb_star', 'nb_colon', 'nb_comma',\n",
              "       'nb_semicolumn', 'nb_dollar', 'nb_space', 'nb_www', 'nb_com',\n",
              "       'nb_dslash', 'http_in_path', 'https_token', 'ratio_digits_url',\n",
              "       'ratio_digits_host', 'punycode', 'port', 'tld_in_path',\n",
              "       'tld_in_subdomain', 'abnormal_subdomain', 'nb_subdomains',\n",
              "       'prefix_suffix', 'random_domain', 'shortening_service',\n",
              "       'path_extension', 'nb_redirection', 'nb_external_redirection',\n",
              "       'length_words_raw', 'char_repeat', 'shortest_words_raw',\n",
              "       'shortest_word_host', 'shortest_word_path', 'longest_words_raw',\n",
              "       'longest_word_host', 'longest_word_path', 'avg_words_raw',\n",
              "       'avg_word_host', 'avg_word_path', 'phish_hints', 'domain_in_brand',\n",
              "       'brand_in_subdomain', 'brand_in_path', 'suspecious_tld',\n",
              "       'statistical_report', 'nb_hyperlinks', 'ratio_intHyperlinks',\n",
              "       'ratio_extHyperlinks', 'ratio_nullHyperlinks', 'nb_extCSS',\n",
              "       'ratio_intRedirection', 'ratio_extRedirection', 'ratio_intErrors',\n",
              "       'ratio_extErrors', 'login_form', 'external_favicon', 'links_in_tags',\n",
              "       'submit_email', 'ratio_intMedia', 'ratio_extMedia', 'sfh', 'iframe',\n",
              "       'popup_window', 'safe_anchor', 'onmouseover', 'right_clic',\n",
              "       'empty_title', 'domain_in_title', 'domain_with_copyright',\n",
              "       'whois_registered_domain', 'domain_registration_length', 'domain_age',\n",
              "       'web_traffic', 'dns_record', 'google_index', 'page_rank', 'status'],\n",
              "      dtype='object')"
            ]
          },
          "metadata": {},
          "execution_count": 14
        }
      ]
    },
    {
      "cell_type": "code",
      "source": [
        "df.head()"
      ],
      "metadata": {
        "colab": {
          "base_uri": "https://localhost:8080/",
          "height": 290
        },
        "id": "n0vXKtwygO8i",
        "outputId": "69f3e475-0371-4609-d27f-aff610d661cf"
      },
      "execution_count": null,
      "outputs": [
        {
          "output_type": "execute_result",
          "data": {
            "text/plain": [
              "                                                 url  length_url  \\\n",
              "0              http://www.crestonwood.com/router.php          37   \n",
              "1  http://shadetreetechnology.com/V4/validation/a...          77   \n",
              "2  https://support-appleld.com.secureupdate.duila...         126   \n",
              "3                                 http://rgipt.ac.in          18   \n",
              "4  http://www.iracing.com/tracks/gateway-motorspo...          55   \n",
              "\n",
              "   length_hostname  ip  nb_dots  nb_hyphens  nb_at  nb_qm  nb_and  nb_or  ...  \\\n",
              "0               19   0        3           0      0      0       0      0  ...   \n",
              "1               23   1        1           0      0      0       0      0  ...   \n",
              "2               50   1        4           1      0      1       2      0  ...   \n",
              "3               11   0        2           0      0      0       0      0  ...   \n",
              "4               15   0        2           2      0      0       0      0  ...   \n",
              "\n",
              "   domain_in_title  domain_with_copyright  whois_registered_domain  \\\n",
              "0                0                      1                        0   \n",
              "1                1                      0                        0   \n",
              "2                1                      0                        0   \n",
              "3                1                      0                        0   \n",
              "4                0                      1                        0   \n",
              "\n",
              "   domain_registration_length  domain_age  web_traffic  dns_record  \\\n",
              "0                          45          -1            0           1   \n",
              "1                          77        5767            0           0   \n",
              "2                          14        4004      5828815           0   \n",
              "3                          62          -1       107721           0   \n",
              "4                         224        8175         8725           0   \n",
              "\n",
              "   google_index  page_rank      status  \n",
              "0             1          4  legitimate  \n",
              "1             1          2    phishing  \n",
              "2             1          0    phishing  \n",
              "3             0          3  legitimate  \n",
              "4             0          6  legitimate  \n",
              "\n",
              "[5 rows x 89 columns]"
            ],
            "text/html": [
              "\n",
              "  <div id=\"df-4f1a451b-ce4f-4c2b-a781-600502062e58\" class=\"colab-df-container\">\n",
              "    <div>\n",
              "<style scoped>\n",
              "    .dataframe tbody tr th:only-of-type {\n",
              "        vertical-align: middle;\n",
              "    }\n",
              "\n",
              "    .dataframe tbody tr th {\n",
              "        vertical-align: top;\n",
              "    }\n",
              "\n",
              "    .dataframe thead th {\n",
              "        text-align: right;\n",
              "    }\n",
              "</style>\n",
              "<table border=\"1\" class=\"dataframe\">\n",
              "  <thead>\n",
              "    <tr style=\"text-align: right;\">\n",
              "      <th></th>\n",
              "      <th>url</th>\n",
              "      <th>length_url</th>\n",
              "      <th>length_hostname</th>\n",
              "      <th>ip</th>\n",
              "      <th>nb_dots</th>\n",
              "      <th>nb_hyphens</th>\n",
              "      <th>nb_at</th>\n",
              "      <th>nb_qm</th>\n",
              "      <th>nb_and</th>\n",
              "      <th>nb_or</th>\n",
              "      <th>...</th>\n",
              "      <th>domain_in_title</th>\n",
              "      <th>domain_with_copyright</th>\n",
              "      <th>whois_registered_domain</th>\n",
              "      <th>domain_registration_length</th>\n",
              "      <th>domain_age</th>\n",
              "      <th>web_traffic</th>\n",
              "      <th>dns_record</th>\n",
              "      <th>google_index</th>\n",
              "      <th>page_rank</th>\n",
              "      <th>status</th>\n",
              "    </tr>\n",
              "  </thead>\n",
              "  <tbody>\n",
              "    <tr>\n",
              "      <th>0</th>\n",
              "      <td>http://www.crestonwood.com/router.php</td>\n",
              "      <td>37</td>\n",
              "      <td>19</td>\n",
              "      <td>0</td>\n",
              "      <td>3</td>\n",
              "      <td>0</td>\n",
              "      <td>0</td>\n",
              "      <td>0</td>\n",
              "      <td>0</td>\n",
              "      <td>0</td>\n",
              "      <td>...</td>\n",
              "      <td>0</td>\n",
              "      <td>1</td>\n",
              "      <td>0</td>\n",
              "      <td>45</td>\n",
              "      <td>-1</td>\n",
              "      <td>0</td>\n",
              "      <td>1</td>\n",
              "      <td>1</td>\n",
              "      <td>4</td>\n",
              "      <td>legitimate</td>\n",
              "    </tr>\n",
              "    <tr>\n",
              "      <th>1</th>\n",
              "      <td>http://shadetreetechnology.com/V4/validation/a...</td>\n",
              "      <td>77</td>\n",
              "      <td>23</td>\n",
              "      <td>1</td>\n",
              "      <td>1</td>\n",
              "      <td>0</td>\n",
              "      <td>0</td>\n",
              "      <td>0</td>\n",
              "      <td>0</td>\n",
              "      <td>0</td>\n",
              "      <td>...</td>\n",
              "      <td>1</td>\n",
              "      <td>0</td>\n",
              "      <td>0</td>\n",
              "      <td>77</td>\n",
              "      <td>5767</td>\n",
              "      <td>0</td>\n",
              "      <td>0</td>\n",
              "      <td>1</td>\n",
              "      <td>2</td>\n",
              "      <td>phishing</td>\n",
              "    </tr>\n",
              "    <tr>\n",
              "      <th>2</th>\n",
              "      <td>https://support-appleld.com.secureupdate.duila...</td>\n",
              "      <td>126</td>\n",
              "      <td>50</td>\n",
              "      <td>1</td>\n",
              "      <td>4</td>\n",
              "      <td>1</td>\n",
              "      <td>0</td>\n",
              "      <td>1</td>\n",
              "      <td>2</td>\n",
              "      <td>0</td>\n",
              "      <td>...</td>\n",
              "      <td>1</td>\n",
              "      <td>0</td>\n",
              "      <td>0</td>\n",
              "      <td>14</td>\n",
              "      <td>4004</td>\n",
              "      <td>5828815</td>\n",
              "      <td>0</td>\n",
              "      <td>1</td>\n",
              "      <td>0</td>\n",
              "      <td>phishing</td>\n",
              "    </tr>\n",
              "    <tr>\n",
              "      <th>3</th>\n",
              "      <td>http://rgipt.ac.in</td>\n",
              "      <td>18</td>\n",
              "      <td>11</td>\n",
              "      <td>0</td>\n",
              "      <td>2</td>\n",
              "      <td>0</td>\n",
              "      <td>0</td>\n",
              "      <td>0</td>\n",
              "      <td>0</td>\n",
              "      <td>0</td>\n",
              "      <td>...</td>\n",
              "      <td>1</td>\n",
              "      <td>0</td>\n",
              "      <td>0</td>\n",
              "      <td>62</td>\n",
              "      <td>-1</td>\n",
              "      <td>107721</td>\n",
              "      <td>0</td>\n",
              "      <td>0</td>\n",
              "      <td>3</td>\n",
              "      <td>legitimate</td>\n",
              "    </tr>\n",
              "    <tr>\n",
              "      <th>4</th>\n",
              "      <td>http://www.iracing.com/tracks/gateway-motorspo...</td>\n",
              "      <td>55</td>\n",
              "      <td>15</td>\n",
              "      <td>0</td>\n",
              "      <td>2</td>\n",
              "      <td>2</td>\n",
              "      <td>0</td>\n",
              "      <td>0</td>\n",
              "      <td>0</td>\n",
              "      <td>0</td>\n",
              "      <td>...</td>\n",
              "      <td>0</td>\n",
              "      <td>1</td>\n",
              "      <td>0</td>\n",
              "      <td>224</td>\n",
              "      <td>8175</td>\n",
              "      <td>8725</td>\n",
              "      <td>0</td>\n",
              "      <td>0</td>\n",
              "      <td>6</td>\n",
              "      <td>legitimate</td>\n",
              "    </tr>\n",
              "  </tbody>\n",
              "</table>\n",
              "<p>5 rows × 89 columns</p>\n",
              "</div>\n",
              "    <div class=\"colab-df-buttons\">\n",
              "\n",
              "  <div class=\"colab-df-container\">\n",
              "    <button class=\"colab-df-convert\" onclick=\"convertToInteractive('df-4f1a451b-ce4f-4c2b-a781-600502062e58')\"\n",
              "            title=\"Convert this dataframe to an interactive table.\"\n",
              "            style=\"display:none;\">\n",
              "\n",
              "  <svg xmlns=\"http://www.w3.org/2000/svg\" height=\"24px\" viewBox=\"0 -960 960 960\">\n",
              "    <path d=\"M120-120v-720h720v720H120Zm60-500h600v-160H180v160Zm220 220h160v-160H400v160Zm0 220h160v-160H400v160ZM180-400h160v-160H180v160Zm440 0h160v-160H620v160ZM180-180h160v-160H180v160Zm440 0h160v-160H620v160Z\"/>\n",
              "  </svg>\n",
              "    </button>\n",
              "\n",
              "  <style>\n",
              "    .colab-df-container {\n",
              "      display:flex;\n",
              "      gap: 12px;\n",
              "    }\n",
              "\n",
              "    .colab-df-convert {\n",
              "      background-color: #E8F0FE;\n",
              "      border: none;\n",
              "      border-radius: 50%;\n",
              "      cursor: pointer;\n",
              "      display: none;\n",
              "      fill: #1967D2;\n",
              "      height: 32px;\n",
              "      padding: 0 0 0 0;\n",
              "      width: 32px;\n",
              "    }\n",
              "\n",
              "    .colab-df-convert:hover {\n",
              "      background-color: #E2EBFA;\n",
              "      box-shadow: 0px 1px 2px rgba(60, 64, 67, 0.3), 0px 1px 3px 1px rgba(60, 64, 67, 0.15);\n",
              "      fill: #174EA6;\n",
              "    }\n",
              "\n",
              "    .colab-df-buttons div {\n",
              "      margin-bottom: 4px;\n",
              "    }\n",
              "\n",
              "    [theme=dark] .colab-df-convert {\n",
              "      background-color: #3B4455;\n",
              "      fill: #D2E3FC;\n",
              "    }\n",
              "\n",
              "    [theme=dark] .colab-df-convert:hover {\n",
              "      background-color: #434B5C;\n",
              "      box-shadow: 0px 1px 3px 1px rgba(0, 0, 0, 0.15);\n",
              "      filter: drop-shadow(0px 1px 2px rgba(0, 0, 0, 0.3));\n",
              "      fill: #FFFFFF;\n",
              "    }\n",
              "  </style>\n",
              "\n",
              "    <script>\n",
              "      const buttonEl =\n",
              "        document.querySelector('#df-4f1a451b-ce4f-4c2b-a781-600502062e58 button.colab-df-convert');\n",
              "      buttonEl.style.display =\n",
              "        google.colab.kernel.accessAllowed ? 'block' : 'none';\n",
              "\n",
              "      async function convertToInteractive(key) {\n",
              "        const element = document.querySelector('#df-4f1a451b-ce4f-4c2b-a781-600502062e58');\n",
              "        const dataTable =\n",
              "          await google.colab.kernel.invokeFunction('convertToInteractive',\n",
              "                                                    [key], {});\n",
              "        if (!dataTable) return;\n",
              "\n",
              "        const docLinkHtml = 'Like what you see? Visit the ' +\n",
              "          '<a target=\"_blank\" href=https://colab.research.google.com/notebooks/data_table.ipynb>data table notebook</a>'\n",
              "          + ' to learn more about interactive tables.';\n",
              "        element.innerHTML = '';\n",
              "        dataTable['output_type'] = 'display_data';\n",
              "        await google.colab.output.renderOutput(dataTable, element);\n",
              "        const docLink = document.createElement('div');\n",
              "        docLink.innerHTML = docLinkHtml;\n",
              "        element.appendChild(docLink);\n",
              "      }\n",
              "    </script>\n",
              "  </div>\n",
              "\n",
              "\n",
              "<div id=\"df-f3770480-fe45-4af5-a77d-4c01c0ffe91e\">\n",
              "  <button class=\"colab-df-quickchart\" onclick=\"quickchart('df-f3770480-fe45-4af5-a77d-4c01c0ffe91e')\"\n",
              "            title=\"Suggest charts\"\n",
              "            style=\"display:none;\">\n",
              "\n",
              "<svg xmlns=\"http://www.w3.org/2000/svg\" height=\"24px\"viewBox=\"0 0 24 24\"\n",
              "     width=\"24px\">\n",
              "    <g>\n",
              "        <path d=\"M19 3H5c-1.1 0-2 .9-2 2v14c0 1.1.9 2 2 2h14c1.1 0 2-.9 2-2V5c0-1.1-.9-2-2-2zM9 17H7v-7h2v7zm4 0h-2V7h2v10zm4 0h-2v-4h2v4z\"/>\n",
              "    </g>\n",
              "</svg>\n",
              "  </button>\n",
              "\n",
              "<style>\n",
              "  .colab-df-quickchart {\n",
              "      --bg-color: #E8F0FE;\n",
              "      --fill-color: #1967D2;\n",
              "      --hover-bg-color: #E2EBFA;\n",
              "      --hover-fill-color: #174EA6;\n",
              "      --disabled-fill-color: #AAA;\n",
              "      --disabled-bg-color: #DDD;\n",
              "  }\n",
              "\n",
              "  [theme=dark] .colab-df-quickchart {\n",
              "      --bg-color: #3B4455;\n",
              "      --fill-color: #D2E3FC;\n",
              "      --hover-bg-color: #434B5C;\n",
              "      --hover-fill-color: #FFFFFF;\n",
              "      --disabled-bg-color: #3B4455;\n",
              "      --disabled-fill-color: #666;\n",
              "  }\n",
              "\n",
              "  .colab-df-quickchart {\n",
              "    background-color: var(--bg-color);\n",
              "    border: none;\n",
              "    border-radius: 50%;\n",
              "    cursor: pointer;\n",
              "    display: none;\n",
              "    fill: var(--fill-color);\n",
              "    height: 32px;\n",
              "    padding: 0;\n",
              "    width: 32px;\n",
              "  }\n",
              "\n",
              "  .colab-df-quickchart:hover {\n",
              "    background-color: var(--hover-bg-color);\n",
              "    box-shadow: 0 1px 2px rgba(60, 64, 67, 0.3), 0 1px 3px 1px rgba(60, 64, 67, 0.15);\n",
              "    fill: var(--button-hover-fill-color);\n",
              "  }\n",
              "\n",
              "  .colab-df-quickchart-complete:disabled,\n",
              "  .colab-df-quickchart-complete:disabled:hover {\n",
              "    background-color: var(--disabled-bg-color);\n",
              "    fill: var(--disabled-fill-color);\n",
              "    box-shadow: none;\n",
              "  }\n",
              "\n",
              "  .colab-df-spinner {\n",
              "    border: 2px solid var(--fill-color);\n",
              "    border-color: transparent;\n",
              "    border-bottom-color: var(--fill-color);\n",
              "    animation:\n",
              "      spin 1s steps(1) infinite;\n",
              "  }\n",
              "\n",
              "  @keyframes spin {\n",
              "    0% {\n",
              "      border-color: transparent;\n",
              "      border-bottom-color: var(--fill-color);\n",
              "      border-left-color: var(--fill-color);\n",
              "    }\n",
              "    20% {\n",
              "      border-color: transparent;\n",
              "      border-left-color: var(--fill-color);\n",
              "      border-top-color: var(--fill-color);\n",
              "    }\n",
              "    30% {\n",
              "      border-color: transparent;\n",
              "      border-left-color: var(--fill-color);\n",
              "      border-top-color: var(--fill-color);\n",
              "      border-right-color: var(--fill-color);\n",
              "    }\n",
              "    40% {\n",
              "      border-color: transparent;\n",
              "      border-right-color: var(--fill-color);\n",
              "      border-top-color: var(--fill-color);\n",
              "    }\n",
              "    60% {\n",
              "      border-color: transparent;\n",
              "      border-right-color: var(--fill-color);\n",
              "    }\n",
              "    80% {\n",
              "      border-color: transparent;\n",
              "      border-right-color: var(--fill-color);\n",
              "      border-bottom-color: var(--fill-color);\n",
              "    }\n",
              "    90% {\n",
              "      border-color: transparent;\n",
              "      border-bottom-color: var(--fill-color);\n",
              "    }\n",
              "  }\n",
              "</style>\n",
              "\n",
              "  <script>\n",
              "    async function quickchart(key) {\n",
              "      const quickchartButtonEl =\n",
              "        document.querySelector('#' + key + ' button');\n",
              "      quickchartButtonEl.disabled = true;  // To prevent multiple clicks.\n",
              "      quickchartButtonEl.classList.add('colab-df-spinner');\n",
              "      try {\n",
              "        const charts = await google.colab.kernel.invokeFunction(\n",
              "            'suggestCharts', [key], {});\n",
              "      } catch (error) {\n",
              "        console.error('Error during call to suggestCharts:', error);\n",
              "      }\n",
              "      quickchartButtonEl.classList.remove('colab-df-spinner');\n",
              "      quickchartButtonEl.classList.add('colab-df-quickchart-complete');\n",
              "    }\n",
              "    (() => {\n",
              "      let quickchartButtonEl =\n",
              "        document.querySelector('#df-f3770480-fe45-4af5-a77d-4c01c0ffe91e button');\n",
              "      quickchartButtonEl.style.display =\n",
              "        google.colab.kernel.accessAllowed ? 'block' : 'none';\n",
              "    })();\n",
              "  </script>\n",
              "</div>\n",
              "    </div>\n",
              "  </div>\n"
            ],
            "application/vnd.google.colaboratory.intrinsic+json": {
              "type": "dataframe",
              "variable_name": "df"
            }
          },
          "metadata": {},
          "execution_count": 6
        }
      ]
    },
    {
      "cell_type": "code",
      "source": [
        "content_features = ['nb_hyperlinks','ratio_intHyperlinks','ratio_extHyperlinks','ratio_nullHyperlinks',\n",
        "    'nb_extCSS','ratio_intRedirection','ratio_extRedirection','ratio_intErrors','ratio_extErrors',\n",
        "    'login_form','external_favicon','links_in_tags','submit_email','ratio_intMedia','ratio_extMedia',\n",
        "    'sfh','iframe','popup_window','safe_anchor','onmouseover','right_clic','empty_title',\n",
        "    'domain_in_title','domain_with_copyright']\n",
        "\n",
        "external_features = ['whois_registered_domain','domain_registration_length','domain_age',\n",
        "    'web_traffic','dns_record','google_index','page_rank']\n",
        "\n",
        "df.drop(content_features, axis=1, inplace=True)\n",
        "df.drop(external_features, axis=1, inplace=True)\n",
        "\n",
        "print(len(df.columns))\n"
      ],
      "metadata": {
        "colab": {
          "base_uri": "https://localhost:8080/"
        },
        "id": "uwlnLuV-ePnV",
        "outputId": "feaa1074-aee9-4841-d5d5-3690073dd569"
      },
      "execution_count": null,
      "outputs": [
        {
          "output_type": "stream",
          "name": "stdout",
          "text": [
            "58\n"
          ]
        }
      ]
    },
    {
      "cell_type": "code",
      "source": [
        "# Define a dictionary to map string values to binary values\n",
        "status_mapping = {'phishing': 0, 'legitimate': 1}\n",
        "\n",
        "# Map the 'status' variable using the dictionary\n",
        "df['status'] = df['status'].map(status_mapping)\n"
      ],
      "metadata": {
        "id": "8elGoqtJp8Dg"
      },
      "execution_count": null,
      "outputs": []
    },
    {
      "cell_type": "code",
      "source": [
        "# Split the data into features (X) and target variable (y)\n",
        "X = df.drop('url', axis=1)\n",
        "X = X.drop('status', axis=1)  # Features\n",
        "y = df['status']  # Target variable\n",
        "\n",
        "# Random state\n",
        "rs = 123\n",
        "\n",
        "# Split the data into training and testing sets\n",
        "X_train, X_test, y_train, y_test = train_test_split(X, y, test_size=0.2, random_state=rs)\n"
      ],
      "metadata": {
        "id": "DW2mq_MKnuyI"
      },
      "execution_count": null,
      "outputs": []
    },
    {
      "cell_type": "code",
      "source": [
        "# Select columns with object (string) data type\n",
        "string_columns = X.select_dtypes(include=['object'])\n",
        "\n",
        "# Check if there are any string columns\n",
        "if not string_columns.empty:\n",
        "    print(\"String columns:\")\n",
        "    print(string_columns.columns)\n",
        "else:\n",
        "    print(\"No string columns found.\")\n"
      ],
      "metadata": {
        "colab": {
          "base_uri": "https://localhost:8080/"
        },
        "id": "PObJJElyqfg9",
        "outputId": "19d03713-56e4-4ee6-ab67-fc3c4f63e97d"
      },
      "execution_count": null,
      "outputs": [
        {
          "output_type": "stream",
          "name": "stdout",
          "text": [
            "No string columns found.\n"
          ]
        }
      ]
    },
    {
      "cell_type": "markdown",
      "source": [
        "## DECISION TREE"
      ],
      "metadata": {
        "id": "xn176uiPwHa1"
      }
    },
    {
      "cell_type": "code",
      "execution_count": null,
      "metadata": {
        "id": "Q86YT7Gvd365"
      },
      "outputs": [],
      "source": [
        "class DecisionTree:\n",
        "\n",
        "    def __init__(self, max_depth=None, min_samples_split=2, max_features=None, criterion='entropy'):\n",
        "        '''\n",
        "        Initialize the decision tree\n",
        "        :param max_depth: maximum depth of the tree\n",
        "        :param min_samples_split: minimum number of samples required for a split\n",
        "        :param random_state: random state\n",
        "        :param criterion: measure function to use for best_partition, default to entropy\n",
        "        '''\n",
        "\n",
        "        self.max_depth = max_depth\n",
        "        self.min_samples_split = min_samples_split\n",
        "        self.max_features = max_features\n",
        "        self.criterion = criterion\n",
        "        self.tree = None\n",
        "\n",
        "    def fit(self, X_train, y_train):\n",
        "        '''\n",
        "        Fit the decision tree to the training data.\n",
        "        :param X: training features\n",
        "        :param y: training labels\n",
        "        '''\n",
        "        self.tree = DecisionTreeClassifier(\n",
        "            max_depth=self.max_depth,\n",
        "            min_samples_split=self.min_samples_split,\n",
        "            max_features=self.max_features,\n",
        "            random_state= rs\n",
        "        )\n",
        "        self.tree.fit(X_train, y_train)\n",
        "\n",
        "    def predict(self, X_train):\n",
        "        '''\n",
        "        Make predictions using the trained decision tree.\n",
        "        :param X: features of the data to be predicted\n",
        "        :return: array of predicted labels\n",
        "        '''\n",
        "        if self.tree is None:\n",
        "            raise ValueError(\"Decision tree has not been trained yet. Call fit() first.\")\n",
        "\n",
        "        predictions = self.tree.predict(X_train)\n",
        "        return predictions\n",
        "\n"
      ]
    },
    {
      "cell_type": "markdown",
      "source": [
        "## HPO for decision tree"
      ],
      "metadata": {
        "id": "4pSglvJeuZ-P"
      }
    },
    {
      "cell_type": "code",
      "source": [
        "# Define the parameters grid to search\n",
        "param_grid = {\n",
        "    'max_depth': [None, 5, 10],\n",
        "    'min_samples_split': [2, 5, 10],\n",
        "    'max_features': [None, 'sqrt', 'log2'],\n",
        "    'criterion':['gini','entropy','log_loss']\n",
        "}\n",
        "\n",
        "# Define the scoring metric\n",
        "scorer = make_scorer(accuracy_score)\n",
        "\n",
        "# Instantiate the decision tree classifier\n",
        "decision_tree = DecisionTreeClassifier(random_state=42)\n",
        "\n",
        "# Instantiate GridSearchCV\n",
        "grid_search = GridSearchCV(decision_tree, param_grid, scoring=scorer, cv=5)\n",
        "\n",
        "# Fit the grid search to the data\n",
        "grid_search.fit(X_train, y_train)\n",
        "\n",
        "# Get the best parameters and best score\n",
        "best_params = grid_search.best_params_\n",
        "best_score = grid_search.best_score_\n",
        "\n",
        "print(\"Best parameters found:\", best_params)\n",
        "print(\"Best accuracy score:\", best_score)\n"
      ],
      "metadata": {
        "colab": {
          "base_uri": "https://localhost:8080/"
        },
        "id": "0wwFB1MgsSFf",
        "outputId": "91f70662-fbf4-4648-8064-b41017045749"
      },
      "execution_count": 71,
      "outputs": [
        {
          "output_type": "stream",
          "name": "stdout",
          "text": [
            "Best parameters found: {'criterion': 'entropy', 'max_depth': None, 'max_features': None, 'min_samples_split': 10}\n",
            "Best accuracy score: 0.8694221352319127\n"
          ]
        }
      ]
    },
    {
      "cell_type": "markdown",
      "source": [
        "### Evaluation of the method"
      ],
      "metadata": {
        "id": "TeutzTX-sRxx"
      }
    },
    {
      "cell_type": "code",
      "source": [
        "# Instantiate the DecisionTree object with desired parameters\n",
        "decision_tree_model = DecisionTree(max_depth=None, min_samples_split=10, max_features=None, criterion='entropy')\n",
        "\n",
        "# Fit the model to the training data\n",
        "decision_tree_model.fit(X_train, y_train)\n",
        "\n",
        "start_time = time.time()\n",
        "\n",
        "# Make predictions on the test data\n",
        "predictions = decision_tree_model.predict(X_test)\n",
        "\n",
        "# Calculate time taken\n",
        "end_time = time.time()\n",
        "time = end_time - start_time\n",
        "\n",
        "\n",
        "# Evaluate the model\n",
        "dt_accuracy = accuracy_score(y_test, predictions)\n",
        "dt_precision = precision_score(y_test, predictions)\n",
        "dt_recall = recall_score(y_test, predictions)\n",
        "dt_f1 = f1_score(y_test, predictions)\n",
        "\n",
        "\n",
        "print(\"Test accuracy:\", accuracy)\n",
        "print(\"Test precision:\", dt_precision)\n",
        "print(\"Test recall:\", dt_recall)\n",
        "print(\"Test f1 score:\", dt_f1)"
      ],
      "metadata": {
        "colab": {
          "base_uri": "https://localhost:8080/"
        },
        "id": "VZySkjYxoi87",
        "outputId": "f26c46e5-ab99-4e25-e339-f23e232e4762"
      },
      "execution_count": null,
      "outputs": [
        {
          "output_type": "stream",
          "name": "stdout",
          "text": [
            "Test accuracy: 0.8797025371828522\n",
            "Test precision: 0.8860640301318268\n",
            "Test recall: 0.8593607305936073\n",
            "Test f1 score: 0.8725081131200741\n"
          ]
        }
      ]
    },
    {
      "cell_type": "code",
      "source": [
        "# Store results in the dictionary\n",
        "model_evaluations['DecisionTree'] = {\n",
        "        \"accuracy\": dt_accuracy,\n",
        "        \"precision\": dt_precision,\n",
        "        \"recall\": dt_recall,\n",
        "        \"f1\": dt_f1,\n",
        "        \"predicting time\": time}"
      ],
      "metadata": {
        "id": "KOGYUNH9w-by"
      },
      "execution_count": null,
      "outputs": []
    },
    {
      "cell_type": "code",
      "source": [
        "model_evaluations"
      ],
      "metadata": {
        "colab": {
          "base_uri": "https://localhost:8080/"
        },
        "id": "EvkGXuCyyhED",
        "outputId": "73964da6-0489-4a4d-9ed4-bc87dbc2df63"
      },
      "execution_count": null,
      "outputs": [
        {
          "output_type": "execute_result",
          "data": {
            "text/plain": [
              "{'DecisionTree': {'accuracy': 0.8797025371828522,\n",
              "  'precision': 0.8860640301318268,\n",
              "  'recall': 0.8593607305936073,\n",
              "  'f1': 0.8725081131200741,\n",
              "  'predicting time': 0.0036630630493164062}}"
            ]
          },
          "metadata": {},
          "execution_count": 68
        }
      ]
    },
    {
      "cell_type": "markdown",
      "source": [
        "## RANDOM FOREST"
      ],
      "metadata": {
        "id": "F5zrK-80zxhJ"
      }
    },
    {
      "cell_type": "code",
      "source": [
        "class RandomForestModel:\n",
        "\n",
        "    def __init__(self, n_estimators=100, max_depth=None, criterion=None,max_features=None):\n",
        "        '''\n",
        "        Initialize the Random Forest model\n",
        "        :param n_estimators: The number of trees in the forest\n",
        "        :param max_depth: The maximum depth of the tree\n",
        "        :param random_state: Controls both the randomness of the bootstrapping of the samples used when building trees\n",
        "                              (if `bootstrap=True`) and the sampling of the features to consider when looking for the best split at each node.\n",
        "        :param criterion:\n",
        "        :param max_features:\n",
        "        '''\n",
        "        self.n_estimators = n_estimators\n",
        "        self.max_depth = max_depth\n",
        "        self.criterion = criterion\n",
        "        self.max_features = max_features\n",
        "        self.rf = None\n",
        "\n",
        "\n",
        "    def fit(self, X_train, y_train):\n",
        "        '''\n",
        "        Fit the Random Forest model to the training data\n",
        "        :param X_train: The training features\n",
        "        :param y_train: The training labels\n",
        "        '''\n",
        "        self.rf = RandomForestClassifier(n_estimators=self.n_estimators, criterion= self.criterion,\n",
        "                                             max_depth=self.max_depth,max_features=self.max_features,\n",
        "                                             random_state= rs)\n",
        "        self.rf.fit(X_train, y_train)\n",
        "\n",
        "    def predict(self, X_test):\n",
        "        '''\n",
        "        Make predictions using the trained Random Forest model\n",
        "        :param X_test: The test features\n",
        "        :return: Predicted labels\n",
        "        '''\n",
        "        if self.rf is None:\n",
        "            raise ValueError(\"Random Forest model has not been trained yet. Call fit() first.\")\n",
        "        return self.rf.predict(X_test)\n",
        "\n",
        "\n"
      ],
      "metadata": {
        "id": "84teNzeg2eZi"
      },
      "execution_count": 77,
      "outputs": []
    },
    {
      "cell_type": "code",
      "source": [],
      "metadata": {
        "id": "2F-scGr_BMyT"
      },
      "execution_count": 76,
      "outputs": []
    }
  ]
}