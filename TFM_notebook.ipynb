{
 "cells": [
  {
   "cell_type": "markdown",
   "metadata": {
    "id": "q5V0D54PoYBA"
   },
   "source": [
    "# TFM"
   ]
  },
  {
   "cell_type": "code",
   "execution_count": 34,
   "metadata": {
    "id": "WbINcapBd7n2"
   },
   "outputs": [],
   "source": [
    "# IMPORT LIBRAIES\n",
    "import pandas as pd\n",
    "from sklearn.model_selection import train_test_split\n",
    "from sklearn.model_selection import GridSearchCV\n",
    "from sklearn.metrics import accuracy_score,precision_score,recall_score,f1_score, make_scorer\n",
    "import time as t\n",
    "\n",
    "\n",
    "#TREE\n",
    "from sklearn.tree import DecisionTreeClassifier\n",
    "#RandomForest\n",
    "from sklearn.ensemble import RandomForestClassifier\n",
    "#KNN\n",
    "from sklearn.neighbors import KNeighborsClassifier\n",
    "\n"
   ]
  },
  {
   "cell_type": "code",
   "execution_count": 2,
   "metadata": {
    "id": "I_wgP_tpujA8"
   },
   "outputs": [],
   "source": [
    "model_evaluations={}"
   ]
  },
  {
   "cell_type": "markdown",
   "metadata": {
    "id": "bOZeDHx_v_Ym"
   },
   "source": [
    "## DATA PREPARATION"
   ]
  },
  {
   "cell_type": "code",
   "execution_count": 4,
   "metadata": {
    "id": "jWupP-MBgNks"
   },
   "outputs": [],
   "source": [
    "# Read the CSV file\n",
    "df = pd.read_csv('dataset_TFM.csv')  # Replace 'your_dataset.csv' with the path to your dataset\n"
   ]
  },
  {
   "cell_type": "markdown",
   "metadata": {
    "id": "Cc6pX-gHn4Ja"
   },
   "source": [
    "The data set contains 87 extracted features, the column with the url, and the status column. Features are from three different classes: 56 extracted from the structure and syntax of URLs, 24 extracted from the content of their correspondent pages and 7 are extracetd by querying external services."
   ]
  },
  {
   "cell_type": "code",
   "execution_count": 5,
   "metadata": {
    "colab": {
     "base_uri": "https://localhost:8080/"
    },
    "id": "Hk1LvrF2jazt",
    "outputId": "2b287189-6211-46db-c934-e86c481b38b3"
   },
   "outputs": [
    {
     "name": "stdout",
     "output_type": "stream",
     "text": [
      "89\n"
     ]
    },
    {
     "data": {
      "text/plain": [
       "Index(['url', 'length_url', 'length_hostname', 'ip', 'nb_dots', 'nb_hyphens',\n",
       "       'nb_at', 'nb_qm', 'nb_and', 'nb_or', 'nb_eq', 'nb_underscore',\n",
       "       'nb_tilde', 'nb_percent', 'nb_slash', 'nb_star', 'nb_colon', 'nb_comma',\n",
       "       'nb_semicolumn', 'nb_dollar', 'nb_space', 'nb_www', 'nb_com',\n",
       "       'nb_dslash', 'http_in_path', 'https_token', 'ratio_digits_url',\n",
       "       'ratio_digits_host', 'punycode', 'port', 'tld_in_path',\n",
       "       'tld_in_subdomain', 'abnormal_subdomain', 'nb_subdomains',\n",
       "       'prefix_suffix', 'random_domain', 'shortening_service',\n",
       "       'path_extension', 'nb_redirection', 'nb_external_redirection',\n",
       "       'length_words_raw', 'char_repeat', 'shortest_words_raw',\n",
       "       'shortest_word_host', 'shortest_word_path', 'longest_words_raw',\n",
       "       'longest_word_host', 'longest_word_path', 'avg_words_raw',\n",
       "       'avg_word_host', 'avg_word_path', 'phish_hints', 'domain_in_brand',\n",
       "       'brand_in_subdomain', 'brand_in_path', 'suspecious_tld',\n",
       "       'statistical_report', 'nb_hyperlinks', 'ratio_intHyperlinks',\n",
       "       'ratio_extHyperlinks', 'ratio_nullHyperlinks', 'nb_extCSS',\n",
       "       'ratio_intRedirection', 'ratio_extRedirection', 'ratio_intErrors',\n",
       "       'ratio_extErrors', 'login_form', 'external_favicon', 'links_in_tags',\n",
       "       'submit_email', 'ratio_intMedia', 'ratio_extMedia', 'sfh', 'iframe',\n",
       "       'popup_window', 'safe_anchor', 'onmouseover', 'right_clic',\n",
       "       'empty_title', 'domain_in_title', 'domain_with_copyright',\n",
       "       'whois_registered_domain', 'domain_registration_length', 'domain_age',\n",
       "       'web_traffic', 'dns_record', 'google_index', 'page_rank', 'status'],\n",
       "      dtype='object')"
      ]
     },
     "execution_count": 5,
     "metadata": {},
     "output_type": "execute_result"
    }
   ],
   "source": [
    "print(len(df.columns))\n",
    "df.columns"
   ]
  },
  {
   "cell_type": "code",
   "execution_count": 6,
   "metadata": {
    "colab": {
     "base_uri": "https://localhost:8080/",
     "height": 290
    },
    "id": "n0vXKtwygO8i",
    "outputId": "69f3e475-0371-4609-d27f-aff610d661cf"
   },
   "outputs": [
    {
     "data": {
      "text/html": [
       "<div>\n",
       "<style scoped>\n",
       "    .dataframe tbody tr th:only-of-type {\n",
       "        vertical-align: middle;\n",
       "    }\n",
       "\n",
       "    .dataframe tbody tr th {\n",
       "        vertical-align: top;\n",
       "    }\n",
       "\n",
       "    .dataframe thead th {\n",
       "        text-align: right;\n",
       "    }\n",
       "</style>\n",
       "<table border=\"1\" class=\"dataframe\">\n",
       "  <thead>\n",
       "    <tr style=\"text-align: right;\">\n",
       "      <th></th>\n",
       "      <th>url</th>\n",
       "      <th>length_url</th>\n",
       "      <th>length_hostname</th>\n",
       "      <th>ip</th>\n",
       "      <th>nb_dots</th>\n",
       "      <th>nb_hyphens</th>\n",
       "      <th>nb_at</th>\n",
       "      <th>nb_qm</th>\n",
       "      <th>nb_and</th>\n",
       "      <th>nb_or</th>\n",
       "      <th>...</th>\n",
       "      <th>domain_in_title</th>\n",
       "      <th>domain_with_copyright</th>\n",
       "      <th>whois_registered_domain</th>\n",
       "      <th>domain_registration_length</th>\n",
       "      <th>domain_age</th>\n",
       "      <th>web_traffic</th>\n",
       "      <th>dns_record</th>\n",
       "      <th>google_index</th>\n",
       "      <th>page_rank</th>\n",
       "      <th>status</th>\n",
       "    </tr>\n",
       "  </thead>\n",
       "  <tbody>\n",
       "    <tr>\n",
       "      <th>0</th>\n",
       "      <td>http://www.crestonwood.com/router.php</td>\n",
       "      <td>37</td>\n",
       "      <td>19</td>\n",
       "      <td>0</td>\n",
       "      <td>3</td>\n",
       "      <td>0</td>\n",
       "      <td>0</td>\n",
       "      <td>0</td>\n",
       "      <td>0</td>\n",
       "      <td>0</td>\n",
       "      <td>...</td>\n",
       "      <td>0</td>\n",
       "      <td>1</td>\n",
       "      <td>0</td>\n",
       "      <td>45</td>\n",
       "      <td>-1</td>\n",
       "      <td>0</td>\n",
       "      <td>1</td>\n",
       "      <td>1</td>\n",
       "      <td>4</td>\n",
       "      <td>legitimate</td>\n",
       "    </tr>\n",
       "    <tr>\n",
       "      <th>1</th>\n",
       "      <td>http://shadetreetechnology.com/V4/validation/a...</td>\n",
       "      <td>77</td>\n",
       "      <td>23</td>\n",
       "      <td>1</td>\n",
       "      <td>1</td>\n",
       "      <td>0</td>\n",
       "      <td>0</td>\n",
       "      <td>0</td>\n",
       "      <td>0</td>\n",
       "      <td>0</td>\n",
       "      <td>...</td>\n",
       "      <td>1</td>\n",
       "      <td>0</td>\n",
       "      <td>0</td>\n",
       "      <td>77</td>\n",
       "      <td>5767</td>\n",
       "      <td>0</td>\n",
       "      <td>0</td>\n",
       "      <td>1</td>\n",
       "      <td>2</td>\n",
       "      <td>phishing</td>\n",
       "    </tr>\n",
       "    <tr>\n",
       "      <th>2</th>\n",
       "      <td>https://support-appleld.com.secureupdate.duila...</td>\n",
       "      <td>126</td>\n",
       "      <td>50</td>\n",
       "      <td>1</td>\n",
       "      <td>4</td>\n",
       "      <td>1</td>\n",
       "      <td>0</td>\n",
       "      <td>1</td>\n",
       "      <td>2</td>\n",
       "      <td>0</td>\n",
       "      <td>...</td>\n",
       "      <td>1</td>\n",
       "      <td>0</td>\n",
       "      <td>0</td>\n",
       "      <td>14</td>\n",
       "      <td>4004</td>\n",
       "      <td>5828815</td>\n",
       "      <td>0</td>\n",
       "      <td>1</td>\n",
       "      <td>0</td>\n",
       "      <td>phishing</td>\n",
       "    </tr>\n",
       "    <tr>\n",
       "      <th>3</th>\n",
       "      <td>http://rgipt.ac.in</td>\n",
       "      <td>18</td>\n",
       "      <td>11</td>\n",
       "      <td>0</td>\n",
       "      <td>2</td>\n",
       "      <td>0</td>\n",
       "      <td>0</td>\n",
       "      <td>0</td>\n",
       "      <td>0</td>\n",
       "      <td>0</td>\n",
       "      <td>...</td>\n",
       "      <td>1</td>\n",
       "      <td>0</td>\n",
       "      <td>0</td>\n",
       "      <td>62</td>\n",
       "      <td>-1</td>\n",
       "      <td>107721</td>\n",
       "      <td>0</td>\n",
       "      <td>0</td>\n",
       "      <td>3</td>\n",
       "      <td>legitimate</td>\n",
       "    </tr>\n",
       "    <tr>\n",
       "      <th>4</th>\n",
       "      <td>http://www.iracing.com/tracks/gateway-motorspo...</td>\n",
       "      <td>55</td>\n",
       "      <td>15</td>\n",
       "      <td>0</td>\n",
       "      <td>2</td>\n",
       "      <td>2</td>\n",
       "      <td>0</td>\n",
       "      <td>0</td>\n",
       "      <td>0</td>\n",
       "      <td>0</td>\n",
       "      <td>...</td>\n",
       "      <td>0</td>\n",
       "      <td>1</td>\n",
       "      <td>0</td>\n",
       "      <td>224</td>\n",
       "      <td>8175</td>\n",
       "      <td>8725</td>\n",
       "      <td>0</td>\n",
       "      <td>0</td>\n",
       "      <td>6</td>\n",
       "      <td>legitimate</td>\n",
       "    </tr>\n",
       "  </tbody>\n",
       "</table>\n",
       "<p>5 rows × 89 columns</p>\n",
       "</div>"
      ],
      "text/plain": [
       "                                                 url  length_url  \\\n",
       "0              http://www.crestonwood.com/router.php          37   \n",
       "1  http://shadetreetechnology.com/V4/validation/a...          77   \n",
       "2  https://support-appleld.com.secureupdate.duila...         126   \n",
       "3                                 http://rgipt.ac.in          18   \n",
       "4  http://www.iracing.com/tracks/gateway-motorspo...          55   \n",
       "\n",
       "   length_hostname  ip  nb_dots  nb_hyphens  nb_at  nb_qm  nb_and  nb_or  ...  \\\n",
       "0               19   0        3           0      0      0       0      0  ...   \n",
       "1               23   1        1           0      0      0       0      0  ...   \n",
       "2               50   1        4           1      0      1       2      0  ...   \n",
       "3               11   0        2           0      0      0       0      0  ...   \n",
       "4               15   0        2           2      0      0       0      0  ...   \n",
       "\n",
       "   domain_in_title  domain_with_copyright  whois_registered_domain  \\\n",
       "0                0                      1                        0   \n",
       "1                1                      0                        0   \n",
       "2                1                      0                        0   \n",
       "3                1                      0                        0   \n",
       "4                0                      1                        0   \n",
       "\n",
       "   domain_registration_length  domain_age  web_traffic  dns_record  \\\n",
       "0                          45          -1            0           1   \n",
       "1                          77        5767            0           0   \n",
       "2                          14        4004      5828815           0   \n",
       "3                          62          -1       107721           0   \n",
       "4                         224        8175         8725           0   \n",
       "\n",
       "   google_index  page_rank      status  \n",
       "0             1          4  legitimate  \n",
       "1             1          2    phishing  \n",
       "2             1          0    phishing  \n",
       "3             0          3  legitimate  \n",
       "4             0          6  legitimate  \n",
       "\n",
       "[5 rows x 89 columns]"
      ]
     },
     "execution_count": 6,
     "metadata": {},
     "output_type": "execute_result"
    }
   ],
   "source": [
    "df.head()"
   ]
  },
  {
   "cell_type": "code",
   "execution_count": 7,
   "metadata": {
    "colab": {
     "base_uri": "https://localhost:8080/"
    },
    "id": "uwlnLuV-ePnV",
    "outputId": "946b823d-9035-477d-b61e-ebd7e8624234"
   },
   "outputs": [
    {
     "name": "stdout",
     "output_type": "stream",
     "text": [
      "58\n"
     ]
    }
   ],
   "source": [
    "content_features = ['nb_hyperlinks','ratio_intHyperlinks','ratio_extHyperlinks','ratio_nullHyperlinks',\n",
    "    'nb_extCSS','ratio_intRedirection','ratio_extRedirection','ratio_intErrors','ratio_extErrors',\n",
    "    'login_form','external_favicon','links_in_tags','submit_email','ratio_intMedia','ratio_extMedia',\n",
    "    'sfh','iframe','popup_window','safe_anchor','onmouseover','right_clic','empty_title',\n",
    "    'domain_in_title','domain_with_copyright']\n",
    "\n",
    "external_features = ['whois_registered_domain','domain_registration_length','domain_age',\n",
    "    'web_traffic','dns_record','google_index','page_rank']\n",
    "\n",
    "df.drop(content_features, axis=1, inplace=True)\n",
    "df.drop(external_features, axis=1, inplace=True)\n",
    "\n",
    "print(len(df.columns))\n"
   ]
  },
  {
   "cell_type": "code",
   "execution_count": 8,
   "metadata": {
    "id": "8elGoqtJp8Dg"
   },
   "outputs": [],
   "source": [
    "# Define a dictionary to map string values to binary values\n",
    "status_mapping = {'phishing': 0, 'legitimate': 1}\n",
    "\n",
    "# Map the 'status' variable using the dictionary\n",
    "df['status'] = df['status'].map(status_mapping)\n"
   ]
  },
  {
   "cell_type": "markdown",
   "metadata": {
    "id": "eBJBdVojKlyQ"
   },
   "source": [
    "### Split the data"
   ]
  },
  {
   "cell_type": "code",
   "execution_count": 9,
   "metadata": {
    "id": "DW2mq_MKnuyI"
   },
   "outputs": [],
   "source": [
    "# Split the data into features (X) and target variable (y)\n",
    "X = df.drop('url', axis=1)\n",
    "X = X.drop('status', axis=1)  # Features\n",
    "y = df['status']  # Target variable\n",
    "\n",
    "# Random state\n",
    "rs = 123\n",
    "\n",
    "# Split the data into training and testing sets\n",
    "X_train, X_test, y_train, y_test = train_test_split(X, y, test_size=0.2, random_state=rs)\n"
   ]
  },
  {
   "cell_type": "code",
   "execution_count": 10,
   "metadata": {
    "colab": {
     "base_uri": "https://localhost:8080/"
    },
    "id": "PObJJElyqfg9",
    "outputId": "0d64b46a-8192-4d70-d77c-fc0a9f3ad0de"
   },
   "outputs": [
    {
     "name": "stdout",
     "output_type": "stream",
     "text": [
      "No string columns found.\n"
     ]
    }
   ],
   "source": [
    "# Select columns with object (string) data type\n",
    "string_columns = X.select_dtypes(include=['object'])\n",
    "\n",
    "# Check if there are any string columns\n",
    "if not string_columns.empty:\n",
    "    print(\"String columns:\")\n",
    "    print(string_columns.columns)\n",
    "else:\n",
    "    print(\"No string columns found.\")\n"
   ]
  },
  {
   "cell_type": "markdown",
   "metadata": {
    "id": "xn176uiPwHa1"
   },
   "source": [
    "## DECISION TREE"
   ]
  },
  {
   "cell_type": "code",
   "execution_count": 11,
   "metadata": {
    "id": "Q86YT7Gvd365"
   },
   "outputs": [],
   "source": [
    "class DecisionTree:\n",
    "\n",
    "    def __init__(self, max_depth=None, min_samples_split=2, max_features=None, criterion='entropy'):\n",
    "        '''\n",
    "        Initialize the decision tree\n",
    "        :param max_depth: maximum depth of the tree\n",
    "        :param min_samples_split: minimum number of samples required for a split\n",
    "        :param random_state: random state\n",
    "        :param criterion: measure function to use for best_partition, default to entropy\n",
    "        '''\n",
    "\n",
    "        self.max_depth = max_depth\n",
    "        self.min_samples_split = min_samples_split\n",
    "        self.max_features = max_features\n",
    "        self.criterion = criterion\n",
    "        self.tree = None\n",
    "\n",
    "    def fit(self, X_train, y_train):\n",
    "        '''\n",
    "        Fit the decision tree to the training data.\n",
    "        :param X: training features\n",
    "        :param y: training labels\n",
    "        '''\n",
    "        self.tree = DecisionTreeClassifier(\n",
    "            max_depth=self.max_depth,\n",
    "            min_samples_split=self.min_samples_split,\n",
    "            max_features=self.max_features,\n",
    "            random_state= rs\n",
    "        )\n",
    "        self.tree.fit(X_train, y_train)\n",
    "\n",
    "    def predict(self, X_train):\n",
    "        '''\n",
    "        Make predictions using the trained decision tree.\n",
    "        :param X: features of the data to be predicted\n",
    "        :return: array of predicted labels\n",
    "        '''\n",
    "        if self.tree is None:\n",
    "            raise ValueError(\"Decision tree has not been trained yet. Call fit() first.\")\n",
    "\n",
    "        predictions = self.tree.predict(X_train)\n",
    "        return predictions\n",
    "\n"
   ]
  },
  {
   "cell_type": "markdown",
   "metadata": {
    "id": "4pSglvJeuZ-P"
   },
   "source": [
    "### HPO for decision tree"
   ]
  },
  {
   "cell_type": "code",
   "execution_count": 18,
   "metadata": {
    "colab": {
     "base_uri": "https://localhost:8080/"
    },
    "id": "0wwFB1MgsSFf",
    "outputId": "91f70662-fbf4-4648-8064-b41017045749"
   },
   "outputs": [
    {
     "name": "stdout",
     "output_type": "stream",
     "text": [
      "Best parameters found: {'criterion': 'entropy', 'max_depth': None, 'max_features': None, 'min_samples_split': 10}\n",
      "Best accuracy score: 0.8690936683842733\n"
     ]
    }
   ],
   "source": [
    "# Define the parameters grid to search\n",
    "param_grid = {\n",
    "    'max_depth': [None, 5, 10],\n",
    "    'min_samples_split': [2, 5, 10],\n",
    "    'max_features': [None, 'sqrt', 'log2'],\n",
    "    'criterion':['gini','entropy']\n",
    "}\n",
    "\n",
    "# Define the scoring metric\n",
    "scorer = make_scorer(accuracy_score)\n",
    "\n",
    "# Instantiate the decision tree classifier\n",
    "decision_tree = DecisionTreeClassifier(random_state=rs)\n",
    "\n",
    "# Instantiate GridSearchCV\n",
    "grid_search = GridSearchCV(decision_tree, param_grid, scoring=scorer, cv=5)\n",
    "\n",
    "# Fit the grid search to the data\n",
    "grid_search.fit(X_train, y_train)\n",
    "\n",
    "# Get the best parameters and best score\n",
    "best_params = grid_search.best_params_\n",
    "best_score = grid_search.best_score_\n",
    "\n",
    "print(\"Best parameters found:\", best_params)\n",
    "print(\"Best accuracy score:\", best_score)\n"
   ]
  },
  {
   "cell_type": "markdown",
   "metadata": {
    "id": "TeutzTX-sRxx"
   },
   "source": [
    "### Evaluation of Decision tree"
   ]
  },
  {
   "cell_type": "code",
   "execution_count": 23,
   "metadata": {
    "colab": {
     "base_uri": "https://localhost:8080/"
    },
    "id": "VZySkjYxoi87",
    "outputId": "f26c46e5-ab99-4e25-e339-f23e232e4762"
   },
   "outputs": [
    {
     "name": "stdout",
     "output_type": "stream",
     "text": [
      "Test accuracy: 0.8797025371828522\n",
      "Test precision: 0.8860640301318268\n",
      "Test recall: 0.8593607305936073\n",
      "Test f1 score: 0.8725081131200741\n"
     ]
    }
   ],
   "source": [
    "# Instantiate the DecisionTree object with desired parameters\n",
    "decision_tree_model = DecisionTree(max_depth=None, min_samples_split=10, max_features=None, criterion='entropy')\n",
    "\n",
    "# Fit the model to the training data\n",
    "decision_tree_model.fit(X_train, y_train)\n",
    "\n",
    "start_time = t.time()\n",
    "\n",
    "# Make predictions on the test data\n",
    "predictions = decision_tree_model.predict(X_test)\n",
    "\n",
    "# Calculate time taken\n",
    "end_time = t.time()\n",
    "time = end_time - start_time\n",
    "\n",
    "\n",
    "# Evaluate the model\n",
    "dt_accuracy = accuracy_score(y_test, predictions)\n",
    "dt_precision = precision_score(y_test, predictions)\n",
    "dt_recall = recall_score(y_test, predictions)\n",
    "dt_f1 = f1_score(y_test, predictions)\n",
    "\n",
    "\n",
    "print(\"Test accuracy:\", dt_accuracy)\n",
    "print(\"Test precision:\", dt_precision)\n",
    "print(\"Test recall:\", dt_recall)\n",
    "print(\"Test f1 score:\", dt_f1)"
   ]
  },
  {
   "cell_type": "code",
   "execution_count": 24,
   "metadata": {
    "id": "KOGYUNH9w-by"
   },
   "outputs": [],
   "source": [
    "# Store results in the dictionary\n",
    "model_evaluations['DecisionTree'] = {\n",
    "        \"accuracy\": dt_accuracy,\n",
    "        \"precision\": dt_precision,\n",
    "        \"recall\": dt_recall,\n",
    "        \"f1\": dt_f1,\n",
    "        \"predicting time\": time}"
   ]
  },
  {
   "cell_type": "code",
   "execution_count": 25,
   "metadata": {
    "colab": {
     "base_uri": "https://localhost:8080/"
    },
    "id": "EvkGXuCyyhED",
    "outputId": "73964da6-0489-4a4d-9ed4-bc87dbc2df63"
   },
   "outputs": [
    {
     "data": {
      "text/plain": [
       "{'DecisionTree': {'accuracy': 0.8797025371828522,\n",
       "  'precision': 0.8860640301318268,\n",
       "  'recall': 0.8593607305936073,\n",
       "  'f1': 0.8725081131200741,\n",
       "  'predicting time': 0.003762960433959961}}"
      ]
     },
     "execution_count": 25,
     "metadata": {},
     "output_type": "execute_result"
    }
   ],
   "source": [
    "model_evaluations"
   ]
  },
  {
   "cell_type": "markdown",
   "metadata": {
    "id": "F5zrK-80zxhJ"
   },
   "source": [
    "## RANDOM FOREST"
   ]
  },
  {
   "cell_type": "code",
   "execution_count": 26,
   "metadata": {
    "id": "84teNzeg2eZi"
   },
   "outputs": [],
   "source": [
    "class RandomForest:\n",
    "\n",
    "    def __init__(self, n_estimators=100, max_depth=None, criterion=None,max_features=None):\n",
    "        '''\n",
    "        Initialize the Random Forest model\n",
    "        :param n_estimators: The number of trees in the forest\n",
    "        :param max_depth: The maximum depth of the tree\n",
    "        :param random_state: Controls both the randomness of the bootstrapping of the samples used when building trees\n",
    "                              (if `bootstrap=True`) and the sampling of the features to consider when looking for the best split at each node.\n",
    "        :param criterion:\n",
    "        :param max_features:\n",
    "        '''\n",
    "        self.n_estimators = n_estimators\n",
    "        self.max_depth = max_depth\n",
    "        self.criterion = criterion\n",
    "        self.max_features = max_features\n",
    "        self.rf = None\n",
    "\n",
    "\n",
    "    def fit(self, X_train, y_train):\n",
    "        '''\n",
    "        Fit the Random Forest model to the training data\n",
    "        :param X_train: The training features\n",
    "        :param y_train: The training labels\n",
    "        '''\n",
    "        self.rf = RandomForestClassifier(n_estimators=self.n_estimators, criterion= self.criterion,\n",
    "                                             max_depth=self.max_depth, max_features=self.max_features,\n",
    "                                             random_state= rs)\n",
    "        self.rf.fit(X_train, y_train)\n",
    "\n",
    "    def predict(self, X_test):\n",
    "        '''\n",
    "        Make predictions using the trained Random Forest model\n",
    "        :param X_test: The test features\n",
    "        :return: Predicted labels\n",
    "        '''\n",
    "        if self.rf is None:\n",
    "            raise ValueError(\"Random Forest model has not been trained yet. Call fit() first.\")\n",
    "        return self.rf.predict(X_test)\n",
    "\n"
   ]
  },
  {
   "cell_type": "markdown",
   "metadata": {
    "id": "Jbe2tZwAWjyF"
   },
   "source": [
    "### HPO for RandomForest"
   ]
  },
  {
   "cell_type": "code",
   "execution_count": 27,
   "metadata": {
    "id": "2F-scGr_BMyT"
   },
   "outputs": [],
   "source": [
    "# Define the hyperparameters grid to search\n",
    "param_grid_rf = {\n",
    "    'n_estimators': [100, 200, 300],  # Number of trees in the forest\n",
    "    'max_depth': [None, 5, 10],         # Maximum depth of the trees\n",
    "    'criterion': ['gini', 'entropy'],  # Split criterion\n",
    "    'max_features': ['auto', 'sqrt']   # Maximum number of features considered for splitting\n",
    "}\n"
   ]
  },
  {
   "cell_type": "code",
   "execution_count": 29,
   "metadata": {
    "colab": {
     "base_uri": "https://localhost:8080/"
    },
    "id": "cpHnoz1zTLiV",
    "outputId": "d3e3a189-a646-4289-e4e1-c17396d39975"
   },
   "outputs": [
    {
     "name": "stdout",
     "output_type": "stream",
     "text": [
      "Best parameters found: {'criterion': 'entropy', 'max_depth': None, 'max_features': 'auto', 'n_estimators': 200}\n",
      "Best accuracy score: 0.902666677035316\n"
     ]
    }
   ],
   "source": [
    "#Instantiate the RandomForestModel\n",
    "random_forest_model = RandomForestClassifier(random_state = rs)\n",
    "\n",
    "# Instantiate GridSearchCV\n",
    "grid_search_rf = GridSearchCV(random_forest_model, param_grid_rf, cv=5)\n",
    "\n",
    "# Fit the grid search to the data\n",
    "grid_search_rf.fit(X_train, y_train)\n",
    "\n",
    "# Get the best parameters and best score\n",
    "best_params = grid_search_rf.best_params_\n",
    "best_score = grid_search_rf.best_score_\n",
    "\n",
    "print(\"Best parameters found:\", best_params)\n",
    "print(\"Best accuracy score:\", best_score)\n"
   ]
  },
  {
   "cell_type": "markdown",
   "metadata": {
    "id": "6k-dp3pFY3-J"
   },
   "source": [
    "### Evaluation of Random forest"
   ]
  },
  {
   "cell_type": "code",
   "execution_count": 31,
   "metadata": {
    "colab": {
     "base_uri": "https://localhost:8080/"
    },
    "id": "YwJu2EdSXLGv",
    "outputId": "c0647087-7985-4a6e-8002-6754cf7a4d6b"
   },
   "outputs": [
    {
     "name": "stdout",
     "output_type": "stream",
     "text": [
      "Test accuracy: 0.9111986001749781\n",
      "Test precision: 0.9183864915572233\n",
      "Test recall: 0.8940639269406393\n",
      "Test f1 score: 0.906062008329477\n"
     ]
    }
   ],
   "source": [
    "# Instantiate the DecisionTree object with desired parameters\n",
    "rf_model = RandomForest(max_depth=None, n_estimators=200, max_features=None, criterion='entropy')\n",
    "\n",
    "# Fit the model to the training data\n",
    "rf_model.fit(X_train, y_train)\n",
    "\n",
    "start_time = t.time()\n",
    "\n",
    "# Make predictions on the test data\n",
    "predictions = rf_model.predict(X_test)\n",
    "\n",
    "# Calculate time taken\n",
    "end_time = t.time()\n",
    "time = end_time - start_time\n",
    "\n",
    "\n",
    "# Evaluate the model\n",
    "rf_accuracy = accuracy_score(y_test, predictions)\n",
    "rf_precision = precision_score(y_test, predictions)\n",
    "rf_recall = recall_score(y_test, predictions)\n",
    "rf_f1 = f1_score(y_test, predictions)\n",
    "\n",
    "\n",
    "print(\"Test accuracy:\", rf_accuracy)\n",
    "print(\"Test precision:\", rf_precision)\n",
    "print(\"Test recall:\", rf_recall)\n",
    "print(\"Test f1 score:\", rf_f1)"
   ]
  },
  {
   "cell_type": "code",
   "execution_count": 32,
   "metadata": {
    "id": "r575hYUGYg1B"
   },
   "outputs": [],
   "source": [
    "# Store results in the dictionary\n",
    "model_evaluations['RandomForest'] = {\n",
    "        \"accuracy\": rf_accuracy,\n",
    "        \"precision\": rf_precision,\n",
    "        \"recall\": rf_recall,\n",
    "        \"f1\": rf_f1,\n",
    "        \"predicting time\": time}"
   ]
  },
  {
   "cell_type": "code",
   "execution_count": 33,
   "metadata": {
    "colab": {
     "base_uri": "https://localhost:8080/"
    },
    "id": "-NR4-OXnYr1z",
    "outputId": "b0eafa93-2b59-4c69-fc47-e8a3d15826cf"
   },
   "outputs": [
    {
     "data": {
      "text/plain": [
       "{'DecisionTree': {'accuracy': 0.8797025371828522,\n",
       "  'precision': 0.8860640301318268,\n",
       "  'recall': 0.8593607305936073,\n",
       "  'f1': 0.8725081131200741,\n",
       "  'predicting time': 0.003762960433959961},\n",
       " 'RandomForest': {'accuracy': 0.9111986001749781,\n",
       "  'precision': 0.9183864915572233,\n",
       "  'recall': 0.8940639269406393,\n",
       "  'f1': 0.906062008329477,\n",
       "  'predicting time': 0.08202886581420898}}"
      ]
     },
     "execution_count": 33,
     "metadata": {},
     "output_type": "execute_result"
    }
   ],
   "source": [
    "model_evaluations"
   ]
  },
  {
   "cell_type": "markdown",
   "metadata": {
    "id": "f95kIcaOYzd7"
   },
   "source": [
    "## K-NEAREST NEIGHBORS\n",
    "\n",
    "\n",
    "\n"
   ]
  },
  {
   "cell_type": "code",
   "execution_count": 35,
   "metadata": {
    "id": "HVGUeeh_IzsC"
   },
   "outputs": [],
   "source": [
    "\n",
    "class KNNModel:\n",
    "    def __init__(self, n_neighbors, weights='uniform', algorithm='auto',p=2):\n",
    "        '''\n",
    "        Initialize the KNN model\n",
    "        :param n_neighbors: Number of neighbors to use\n",
    "        :param weights: Weight function used in prediction\n",
    "        :param algorithm: Algorithm used to compute the nearest neighbors\n",
    "        :param p: Power parameter for the Minkowski metric. When p = 1 it is equivalent to the manhattan_distance\n",
    "                  when p = 2 it is equivalent to the euclidean_distance\n",
    "        '''\n",
    "        self.n_neighbors = n_neighbors\n",
    "        self.weights = weights\n",
    "        self.algorithm = algorithm\n",
    "        self.p = p\n",
    "        self.model = None\n",
    "\n",
    "    def fit(self, X_train, y_train):\n",
    "        '''\n",
    "        Fit the KNN model to the training data\n",
    "        :param X_train: The training features\n",
    "        :param y_train: The training labels\n",
    "        '''\n",
    "        self.model = KNeighborsClassifier(n_neighbors=self.n_neighbors,\n",
    "                                          weights=self.weights,\n",
    "                                          algorithm=self.algorithm, p = self.p)\n",
    "        self.model.fit(X_train, y_train)\n",
    "\n",
    "    def predict(self, X_test):\n",
    "        '''\n",
    "        Make predictions using the trained KNN model\n",
    "        :param X_test: The test features\n",
    "        :return: Predicted labels\n",
    "        '''\n",
    "        if self.model is None:\n",
    "            raise ValueError(\"KNN model has not been trained yet. Call fit() first.\")\n",
    "        return self.model.predict(X_test)\n"
   ]
  },
  {
   "cell_type": "markdown",
   "metadata": {
    "id": "uvxJVdRTOREz"
   },
   "source": [
    "### HPO for K-nearest neighbors"
   ]
  },
  {
   "cell_type": "code",
   "execution_count": 36,
   "metadata": {
    "colab": {
     "base_uri": "https://localhost:8080/"
    },
    "id": "7hUwQ9pZI31d",
    "outputId": "34863a2d-1d82-45c0-ffa0-a54f94f98b08"
   },
   "outputs": [
    {
     "name": "stdout",
     "output_type": "stream",
     "text": [
      "Best parameters found for KNN: {'algorithm': 'ball_tree', 'n_neighbors': 10, 'p': 1, 'weights': 'distance'}\n",
      "Best accuracy score for KNN: 0.8591417988569761\n"
     ]
    }
   ],
   "source": [
    "# Define the parameter grid for KNN\n",
    "param_grid = {\n",
    "    'n_neighbors': [2,5,10,15,20,30],\n",
    "    'weights': ['uniform', 'distance'],\n",
    "    'algorithm': ['auto', 'ball_tree', 'kd_tree'],\n",
    "    'p': [1, 2]  # Values for the power parameter for the Minkowski metric\n",
    "}\n",
    "\n",
    "# Create a K-nearest neighbors classifier\n",
    "knn_classifier = KNeighborsClassifier()\n",
    "\n",
    "# Instantiate GridSearchCV for KNN\n",
    "grid_search = GridSearchCV(knn_classifier, param_grid, cv=5)\n",
    "\n",
    "# Fit the grid search to the data\n",
    "grid_search.fit(X_train, y_train)\n",
    "\n",
    "# Get the best parameters and best score\n",
    "best_params = grid_search.best_params_\n",
    "best_score = grid_search.best_score_\n",
    "\n",
    "print(\"Best parameters found for KNN:\", best_params)\n",
    "print(\"Best accuracy score for KNN:\", best_score)"
   ]
  },
  {
   "cell_type": "markdown",
   "metadata": {
    "id": "6zR7y6NlOa00"
   },
   "source": [
    "### Evaluation of KNN"
   ]
  },
  {
   "cell_type": "code",
   "execution_count": 38,
   "metadata": {
    "colab": {
     "base_uri": "https://localhost:8080/"
    },
    "id": "-Vkck1LcNiCZ",
    "outputId": "b9d14cc1-2095-4d55-b562-c93792d32ad5"
   },
   "outputs": [
    {
     "name": "stdout",
     "output_type": "stream",
     "text": [
      "Test accuracy: 0.8670166229221348\n",
      "Test precision: 0.8315171835708298\n",
      "Test recall: 0.9059360730593607\n",
      "Test f1 score: 0.8671328671328671\n",
      "Execution time: 1.4135510921478271\n"
     ]
    }
   ],
   "source": [
    "\n",
    "# Instantiate the KNNModel object with desired parameters\n",
    "knn_model = KNNModel(n_neighbors=10, weights='distance', algorithm='ball_tree', p=1)\n",
    "\n",
    "# Fit the model to the training data\n",
    "knn_model.fit(X_train, y_train)\n",
    "\n",
    "start_time = t.time()\n",
    "\n",
    "# Make predictions on the test data\n",
    "predictions = knn_model.predict(X_test)\n",
    "\n",
    "# Calculate time taken\n",
    "end_time = t.time()\n",
    "execution_time = end_time - start_time\n",
    "\n",
    "# Evaluate the model\n",
    "knn_accuracy = accuracy_score(y_test, predictions)\n",
    "knn_precision = precision_score(y_test, predictions)\n",
    "knn_recall = recall_score(y_test, predictions)\n",
    "knn_f1 = f1_score(y_test, predictions)\n",
    "\n",
    "print(\"Test accuracy:\", knn_accuracy)\n",
    "print(\"Test precision:\", knn_precision)\n",
    "print(\"Test recall:\", knn_recall)\n",
    "print(\"Test f1 score:\", knn_f1)\n",
    "print(\"Execution time:\", execution_time)\n"
   ]
  },
  {
   "cell_type": "code",
   "execution_count": 4,
   "metadata": {
    "id": "E_mbg_MZ5RSx"
   },
   "outputs": [],
   "source": [
    "import lazypredict"
   ]
  },
  {
   "cell_type": "code",
   "execution_count": 5,
   "metadata": {
    "id": "kVTYjqbKSIYM"
   },
   "outputs": [],
   "source": [
    "from lazypredict.Supervised import LazyClassifier\n"
   ]
  },
  {
   "cell_type": "code",
   "execution_count": 13,
   "metadata": {
    "colab": {
     "base_uri": "https://localhost:8080/",
     "height": 1000
    },
    "id": "pSW4c_EESOyj",
    "outputId": "5aae72f9-2b32-4893-8405-fafabd7fe053"
   },
   "outputs": [
    {
     "name": "stderr",
     "output_type": "stream",
     "text": [
      " 97%|█████████▋| 28/29 [00:45<00:01,  1.53s/it]"
     ]
    },
    {
     "name": "stdout",
     "output_type": "stream",
     "text": [
      "[LightGBM] [Info] Number of positive: 4620, number of negative: 4524\n",
      "[LightGBM] [Info] Auto-choosing row-wise multi-threading, the overhead of testing was 0.005224 seconds.\n",
      "You can set `force_row_wise=true` to remove the overhead.\n",
      "And if memory is not enough, you can set `force_col_wise=true`.\n",
      "[LightGBM] [Info] Total Bins 1917\n",
      "[LightGBM] [Info] Number of data points in the train set: 9144, number of used features: 51\n",
      "[LightGBM] [Info] [binary:BoostFromScore]: pavg=0.505249 -> initscore=0.020998\n",
      "[LightGBM] [Info] Start training from score 0.020998\n"
     ]
    },
    {
     "name": "stderr",
     "output_type": "stream",
     "text": [
      "100%|██████████| 29/29 [00:45<00:00,  1.58s/it]\n"
     ]
    },
    {
     "data": {
      "application/vnd.google.colaboratory.intrinsic+json": {
       "summary": "{\n  \"name\": \"models\",\n  \"rows\": 27,\n  \"fields\": [\n    {\n      \"column\": \"Model\",\n      \"properties\": {\n        \"dtype\": \"string\",\n        \"num_unique_values\": 27,\n        \"samples\": [\n          \"LabelSpreading\",\n          \"NuSVC\",\n          \"DecisionTreeClassifier\"\n        ],\n        \"semantic_type\": \"\",\n        \"description\": \"\"\n      }\n    },\n    {\n      \"column\": \"Accuracy\",\n      \"properties\": {\n        \"dtype\": \"number\",\n        \"std\": 0.09936849968117437,\n        \"min\": 0.479002624671916,\n        \"max\": 0.9221347331583553,\n        \"num_unique_values\": 25,\n        \"samples\": [\n          0.8814523184601925,\n          0.8289588801399825,\n          0.9221347331583553\n        ],\n        \"semantic_type\": \"\",\n        \"description\": \"\"\n      }\n    },\n    {\n      \"column\": \"Balanced Accuracy\",\n      \"properties\": {\n        \"dtype\": \"number\",\n        \"std\": 0.09430907646253764,\n        \"min\": 0.5,\n        \"max\": 0.9217027247737023,\n        \"num_unique_values\": 26,\n        \"samples\": [\n          0.881518926193023,\n          0.8475944009293446,\n          0.9217027247737023\n        ],\n        \"semantic_type\": \"\",\n        \"description\": \"\"\n      }\n    },\n    {\n      \"column\": \"ROC AUC\",\n      \"properties\": {\n        \"dtype\": \"number\",\n        \"std\": 0.09430907646253764,\n        \"min\": 0.5,\n        \"max\": 0.9217027247737023,\n        \"num_unique_values\": 26,\n        \"samples\": [\n          0.881518926193023,\n          0.8475944009293446,\n          0.9217027247737023\n        ],\n        \"semantic_type\": \"\",\n        \"description\": \"\"\n      }\n    },\n    {\n      \"column\": \"F1 Score\",\n      \"properties\": {\n        \"dtype\": \"number\",\n        \"std\": 0.12893365315169072,\n        \"min\": 0.31026789353194206,\n        \"max\": 0.9221079677999608,\n        \"num_unique_values\": 26,\n        \"samples\": [\n          0.8814799154994274,\n          0.8449161838677016,\n          0.9221079677999608\n        ],\n        \"semantic_type\": \"\",\n        \"description\": \"\"\n      }\n    },\n    {\n      \"column\": \"Time Taken\",\n      \"properties\": {\n        \"dtype\": \"number\",\n        \"std\": 2.82823625540768,\n        \"min\": 0.03571820259094238,\n        \"max\": 8.328953981399536,\n        \"num_unique_values\": 27,\n        \"samples\": [\n          7.7612833976745605,\n          8.328953981399536,\n          0.1482384204864502\n        ],\n        \"semantic_type\": \"\",\n        \"description\": \"\"\n      }\n    }\n  ]\n}",
       "type": "dataframe",
       "variable_name": "models"
      },
      "text/html": [
       "\n",
       "  <div id=\"df-e1bfcc83-836c-448b-83ef-34f223c7204b\" class=\"colab-df-container\">\n",
       "    <div>\n",
       "<style scoped>\n",
       "    .dataframe tbody tr th:only-of-type {\n",
       "        vertical-align: middle;\n",
       "    }\n",
       "\n",
       "    .dataframe tbody tr th {\n",
       "        vertical-align: top;\n",
       "    }\n",
       "\n",
       "    .dataframe thead th {\n",
       "        text-align: right;\n",
       "    }\n",
       "</style>\n",
       "<table border=\"1\" class=\"dataframe\">\n",
       "  <thead>\n",
       "    <tr style=\"text-align: right;\">\n",
       "      <th></th>\n",
       "      <th>Accuracy</th>\n",
       "      <th>Balanced Accuracy</th>\n",
       "      <th>ROC AUC</th>\n",
       "      <th>F1 Score</th>\n",
       "      <th>Time Taken</th>\n",
       "    </tr>\n",
       "    <tr>\n",
       "      <th>Model</th>\n",
       "      <th></th>\n",
       "      <th></th>\n",
       "      <th></th>\n",
       "      <th></th>\n",
       "      <th></th>\n",
       "    </tr>\n",
       "  </thead>\n",
       "  <tbody>\n",
       "    <tr>\n",
       "      <th>LGBMClassifier</th>\n",
       "      <td>0.92</td>\n",
       "      <td>0.92</td>\n",
       "      <td>0.92</td>\n",
       "      <td>0.92</td>\n",
       "      <td>0.55</td>\n",
       "    </tr>\n",
       "    <tr>\n",
       "      <th>XGBClassifier</th>\n",
       "      <td>0.92</td>\n",
       "      <td>0.92</td>\n",
       "      <td>0.92</td>\n",
       "      <td>0.92</td>\n",
       "      <td>0.53</td>\n",
       "    </tr>\n",
       "    <tr>\n",
       "      <th>RandomForestClassifier</th>\n",
       "      <td>0.92</td>\n",
       "      <td>0.92</td>\n",
       "      <td>0.92</td>\n",
       "      <td>0.92</td>\n",
       "      <td>1.41</td>\n",
       "    </tr>\n",
       "    <tr>\n",
       "      <th>ExtraTreesClassifier</th>\n",
       "      <td>0.92</td>\n",
       "      <td>0.92</td>\n",
       "      <td>0.92</td>\n",
       "      <td>0.92</td>\n",
       "      <td>1.19</td>\n",
       "    </tr>\n",
       "    <tr>\n",
       "      <th>BaggingClassifier</th>\n",
       "      <td>0.91</td>\n",
       "      <td>0.90</td>\n",
       "      <td>0.90</td>\n",
       "      <td>0.91</td>\n",
       "      <td>0.69</td>\n",
       "    </tr>\n",
       "    <tr>\n",
       "      <th>SVC</th>\n",
       "      <td>0.89</td>\n",
       "      <td>0.89</td>\n",
       "      <td>0.89</td>\n",
       "      <td>0.89</td>\n",
       "      <td>7.68</td>\n",
       "    </tr>\n",
       "    <tr>\n",
       "      <th>KNeighborsClassifier</th>\n",
       "      <td>0.89</td>\n",
       "      <td>0.89</td>\n",
       "      <td>0.89</td>\n",
       "      <td>0.89</td>\n",
       "      <td>0.32</td>\n",
       "    </tr>\n",
       "    <tr>\n",
       "      <th>LabelPropagation</th>\n",
       "      <td>0.88</td>\n",
       "      <td>0.88</td>\n",
       "      <td>0.88</td>\n",
       "      <td>0.88</td>\n",
       "      <td>4.86</td>\n",
       "    </tr>\n",
       "    <tr>\n",
       "      <th>LabelSpreading</th>\n",
       "      <td>0.88</td>\n",
       "      <td>0.88</td>\n",
       "      <td>0.88</td>\n",
       "      <td>0.88</td>\n",
       "      <td>7.76</td>\n",
       "    </tr>\n",
       "    <tr>\n",
       "      <th>DecisionTreeClassifier</th>\n",
       "      <td>0.88</td>\n",
       "      <td>0.88</td>\n",
       "      <td>0.88</td>\n",
       "      <td>0.88</td>\n",
       "      <td>0.15</td>\n",
       "    </tr>\n",
       "    <tr>\n",
       "      <th>AdaBoostClassifier</th>\n",
       "      <td>0.87</td>\n",
       "      <td>0.87</td>\n",
       "      <td>0.87</td>\n",
       "      <td>0.87</td>\n",
       "      <td>0.77</td>\n",
       "    </tr>\n",
       "    <tr>\n",
       "      <th>LinearSVC</th>\n",
       "      <td>0.86</td>\n",
       "      <td>0.86</td>\n",
       "      <td>0.86</td>\n",
       "      <td>0.86</td>\n",
       "      <td>2.09</td>\n",
       "    </tr>\n",
       "    <tr>\n",
       "      <th>CalibratedClassifierCV</th>\n",
       "      <td>0.86</td>\n",
       "      <td>0.86</td>\n",
       "      <td>0.86</td>\n",
       "      <td>0.86</td>\n",
       "      <td>7.94</td>\n",
       "    </tr>\n",
       "    <tr>\n",
       "      <th>NuSVC</th>\n",
       "      <td>0.86</td>\n",
       "      <td>0.86</td>\n",
       "      <td>0.86</td>\n",
       "      <td>0.86</td>\n",
       "      <td>8.33</td>\n",
       "    </tr>\n",
       "    <tr>\n",
       "      <th>LogisticRegression</th>\n",
       "      <td>0.86</td>\n",
       "      <td>0.86</td>\n",
       "      <td>0.86</td>\n",
       "      <td>0.86</td>\n",
       "      <td>0.22</td>\n",
       "    </tr>\n",
       "    <tr>\n",
       "      <th>ExtraTreeClassifier</th>\n",
       "      <td>0.85</td>\n",
       "      <td>0.85</td>\n",
       "      <td>0.85</td>\n",
       "      <td>0.85</td>\n",
       "      <td>0.05</td>\n",
       "    </tr>\n",
       "    <tr>\n",
       "      <th>SGDClassifier</th>\n",
       "      <td>0.85</td>\n",
       "      <td>0.85</td>\n",
       "      <td>0.85</td>\n",
       "      <td>0.84</td>\n",
       "      <td>0.21</td>\n",
       "    </tr>\n",
       "    <tr>\n",
       "      <th>RidgeClassifier</th>\n",
       "      <td>0.83</td>\n",
       "      <td>0.83</td>\n",
       "      <td>0.83</td>\n",
       "      <td>0.83</td>\n",
       "      <td>0.08</td>\n",
       "    </tr>\n",
       "    <tr>\n",
       "      <th>RidgeClassifierCV</th>\n",
       "      <td>0.83</td>\n",
       "      <td>0.83</td>\n",
       "      <td>0.83</td>\n",
       "      <td>0.83</td>\n",
       "      <td>0.11</td>\n",
       "    </tr>\n",
       "    <tr>\n",
       "      <th>LinearDiscriminantAnalysis</th>\n",
       "      <td>0.83</td>\n",
       "      <td>0.83</td>\n",
       "      <td>0.83</td>\n",
       "      <td>0.83</td>\n",
       "      <td>0.15</td>\n",
       "    </tr>\n",
       "    <tr>\n",
       "      <th>PassiveAggressiveClassifier</th>\n",
       "      <td>0.82</td>\n",
       "      <td>0.83</td>\n",
       "      <td>0.83</td>\n",
       "      <td>0.82</td>\n",
       "      <td>0.08</td>\n",
       "    </tr>\n",
       "    <tr>\n",
       "      <th>Perceptron</th>\n",
       "      <td>0.80</td>\n",
       "      <td>0.80</td>\n",
       "      <td>0.80</td>\n",
       "      <td>0.80</td>\n",
       "      <td>0.08</td>\n",
       "    </tr>\n",
       "    <tr>\n",
       "      <th>BernoulliNB</th>\n",
       "      <td>0.76</td>\n",
       "      <td>0.76</td>\n",
       "      <td>0.76</td>\n",
       "      <td>0.76</td>\n",
       "      <td>0.07</td>\n",
       "    </tr>\n",
       "    <tr>\n",
       "      <th>NearestCentroid</th>\n",
       "      <td>0.75</td>\n",
       "      <td>0.75</td>\n",
       "      <td>0.75</td>\n",
       "      <td>0.74</td>\n",
       "      <td>0.07</td>\n",
       "    </tr>\n",
       "    <tr>\n",
       "      <th>GaussianNB</th>\n",
       "      <td>0.66</td>\n",
       "      <td>0.68</td>\n",
       "      <td>0.68</td>\n",
       "      <td>0.63</td>\n",
       "      <td>0.06</td>\n",
       "    </tr>\n",
       "    <tr>\n",
       "      <th>QuadraticDiscriminantAnalysis</th>\n",
       "      <td>0.64</td>\n",
       "      <td>0.65</td>\n",
       "      <td>0.65</td>\n",
       "      <td>0.59</td>\n",
       "      <td>0.12</td>\n",
       "    </tr>\n",
       "    <tr>\n",
       "      <th>DummyClassifier</th>\n",
       "      <td>0.48</td>\n",
       "      <td>0.50</td>\n",
       "      <td>0.50</td>\n",
       "      <td>0.31</td>\n",
       "      <td>0.04</td>\n",
       "    </tr>\n",
       "  </tbody>\n",
       "</table>\n",
       "</div>\n",
       "    <div class=\"colab-df-buttons\">\n",
       "\n",
       "  <div class=\"colab-df-container\">\n",
       "    <button class=\"colab-df-convert\" onclick=\"convertToInteractive('df-e1bfcc83-836c-448b-83ef-34f223c7204b')\"\n",
       "            title=\"Convert this dataframe to an interactive table.\"\n",
       "            style=\"display:none;\">\n",
       "\n",
       "  <svg xmlns=\"http://www.w3.org/2000/svg\" height=\"24px\" viewBox=\"0 -960 960 960\">\n",
       "    <path d=\"M120-120v-720h720v720H120Zm60-500h600v-160H180v160Zm220 220h160v-160H400v160Zm0 220h160v-160H400v160ZM180-400h160v-160H180v160Zm440 0h160v-160H620v160ZM180-180h160v-160H180v160Zm440 0h160v-160H620v160Z\"/>\n",
       "  </svg>\n",
       "    </button>\n",
       "\n",
       "  <style>\n",
       "    .colab-df-container {\n",
       "      display:flex;\n",
       "      gap: 12px;\n",
       "    }\n",
       "\n",
       "    .colab-df-convert {\n",
       "      background-color: #E8F0FE;\n",
       "      border: none;\n",
       "      border-radius: 50%;\n",
       "      cursor: pointer;\n",
       "      display: none;\n",
       "      fill: #1967D2;\n",
       "      height: 32px;\n",
       "      padding: 0 0 0 0;\n",
       "      width: 32px;\n",
       "    }\n",
       "\n",
       "    .colab-df-convert:hover {\n",
       "      background-color: #E2EBFA;\n",
       "      box-shadow: 0px 1px 2px rgba(60, 64, 67, 0.3), 0px 1px 3px 1px rgba(60, 64, 67, 0.15);\n",
       "      fill: #174EA6;\n",
       "    }\n",
       "\n",
       "    .colab-df-buttons div {\n",
       "      margin-bottom: 4px;\n",
       "    }\n",
       "\n",
       "    [theme=dark] .colab-df-convert {\n",
       "      background-color: #3B4455;\n",
       "      fill: #D2E3FC;\n",
       "    }\n",
       "\n",
       "    [theme=dark] .colab-df-convert:hover {\n",
       "      background-color: #434B5C;\n",
       "      box-shadow: 0px 1px 3px 1px rgba(0, 0, 0, 0.15);\n",
       "      filter: drop-shadow(0px 1px 2px rgba(0, 0, 0, 0.3));\n",
       "      fill: #FFFFFF;\n",
       "    }\n",
       "  </style>\n",
       "\n",
       "    <script>\n",
       "      const buttonEl =\n",
       "        document.querySelector('#df-e1bfcc83-836c-448b-83ef-34f223c7204b button.colab-df-convert');\n",
       "      buttonEl.style.display =\n",
       "        google.colab.kernel.accessAllowed ? 'block' : 'none';\n",
       "\n",
       "      async function convertToInteractive(key) {\n",
       "        const element = document.querySelector('#df-e1bfcc83-836c-448b-83ef-34f223c7204b');\n",
       "        const dataTable =\n",
       "          await google.colab.kernel.invokeFunction('convertToInteractive',\n",
       "                                                    [key], {});\n",
       "        if (!dataTable) return;\n",
       "\n",
       "        const docLinkHtml = 'Like what you see? Visit the ' +\n",
       "          '<a target=\"_blank\" href=https://colab.research.google.com/notebooks/data_table.ipynb>data table notebook</a>'\n",
       "          + ' to learn more about interactive tables.';\n",
       "        element.innerHTML = '';\n",
       "        dataTable['output_type'] = 'display_data';\n",
       "        await google.colab.output.renderOutput(dataTable, element);\n",
       "        const docLink = document.createElement('div');\n",
       "        docLink.innerHTML = docLinkHtml;\n",
       "        element.appendChild(docLink);\n",
       "      }\n",
       "    </script>\n",
       "  </div>\n",
       "\n",
       "\n",
       "<div id=\"df-60723647-bd44-46c9-bf03-4d620139f839\">\n",
       "  <button class=\"colab-df-quickchart\" onclick=\"quickchart('df-60723647-bd44-46c9-bf03-4d620139f839')\"\n",
       "            title=\"Suggest charts\"\n",
       "            style=\"display:none;\">\n",
       "\n",
       "<svg xmlns=\"http://www.w3.org/2000/svg\" height=\"24px\"viewBox=\"0 0 24 24\"\n",
       "     width=\"24px\">\n",
       "    <g>\n",
       "        <path d=\"M19 3H5c-1.1 0-2 .9-2 2v14c0 1.1.9 2 2 2h14c1.1 0 2-.9 2-2V5c0-1.1-.9-2-2-2zM9 17H7v-7h2v7zm4 0h-2V7h2v10zm4 0h-2v-4h2v4z\"/>\n",
       "    </g>\n",
       "</svg>\n",
       "  </button>\n",
       "\n",
       "<style>\n",
       "  .colab-df-quickchart {\n",
       "      --bg-color: #E8F0FE;\n",
       "      --fill-color: #1967D2;\n",
       "      --hover-bg-color: #E2EBFA;\n",
       "      --hover-fill-color: #174EA6;\n",
       "      --disabled-fill-color: #AAA;\n",
       "      --disabled-bg-color: #DDD;\n",
       "  }\n",
       "\n",
       "  [theme=dark] .colab-df-quickchart {\n",
       "      --bg-color: #3B4455;\n",
       "      --fill-color: #D2E3FC;\n",
       "      --hover-bg-color: #434B5C;\n",
       "      --hover-fill-color: #FFFFFF;\n",
       "      --disabled-bg-color: #3B4455;\n",
       "      --disabled-fill-color: #666;\n",
       "  }\n",
       "\n",
       "  .colab-df-quickchart {\n",
       "    background-color: var(--bg-color);\n",
       "    border: none;\n",
       "    border-radius: 50%;\n",
       "    cursor: pointer;\n",
       "    display: none;\n",
       "    fill: var(--fill-color);\n",
       "    height: 32px;\n",
       "    padding: 0;\n",
       "    width: 32px;\n",
       "  }\n",
       "\n",
       "  .colab-df-quickchart:hover {\n",
       "    background-color: var(--hover-bg-color);\n",
       "    box-shadow: 0 1px 2px rgba(60, 64, 67, 0.3), 0 1px 3px 1px rgba(60, 64, 67, 0.15);\n",
       "    fill: var(--button-hover-fill-color);\n",
       "  }\n",
       "\n",
       "  .colab-df-quickchart-complete:disabled,\n",
       "  .colab-df-quickchart-complete:disabled:hover {\n",
       "    background-color: var(--disabled-bg-color);\n",
       "    fill: var(--disabled-fill-color);\n",
       "    box-shadow: none;\n",
       "  }\n",
       "\n",
       "  .colab-df-spinner {\n",
       "    border: 2px solid var(--fill-color);\n",
       "    border-color: transparent;\n",
       "    border-bottom-color: var(--fill-color);\n",
       "    animation:\n",
       "      spin 1s steps(1) infinite;\n",
       "  }\n",
       "\n",
       "  @keyframes spin {\n",
       "    0% {\n",
       "      border-color: transparent;\n",
       "      border-bottom-color: var(--fill-color);\n",
       "      border-left-color: var(--fill-color);\n",
       "    }\n",
       "    20% {\n",
       "      border-color: transparent;\n",
       "      border-left-color: var(--fill-color);\n",
       "      border-top-color: var(--fill-color);\n",
       "    }\n",
       "    30% {\n",
       "      border-color: transparent;\n",
       "      border-left-color: var(--fill-color);\n",
       "      border-top-color: var(--fill-color);\n",
       "      border-right-color: var(--fill-color);\n",
       "    }\n",
       "    40% {\n",
       "      border-color: transparent;\n",
       "      border-right-color: var(--fill-color);\n",
       "      border-top-color: var(--fill-color);\n",
       "    }\n",
       "    60% {\n",
       "      border-color: transparent;\n",
       "      border-right-color: var(--fill-color);\n",
       "    }\n",
       "    80% {\n",
       "      border-color: transparent;\n",
       "      border-right-color: var(--fill-color);\n",
       "      border-bottom-color: var(--fill-color);\n",
       "    }\n",
       "    90% {\n",
       "      border-color: transparent;\n",
       "      border-bottom-color: var(--fill-color);\n",
       "    }\n",
       "  }\n",
       "</style>\n",
       "\n",
       "  <script>\n",
       "    async function quickchart(key) {\n",
       "      const quickchartButtonEl =\n",
       "        document.querySelector('#' + key + ' button');\n",
       "      quickchartButtonEl.disabled = true;  // To prevent multiple clicks.\n",
       "      quickchartButtonEl.classList.add('colab-df-spinner');\n",
       "      try {\n",
       "        const charts = await google.colab.kernel.invokeFunction(\n",
       "            'suggestCharts', [key], {});\n",
       "      } catch (error) {\n",
       "        console.error('Error during call to suggestCharts:', error);\n",
       "      }\n",
       "      quickchartButtonEl.classList.remove('colab-df-spinner');\n",
       "      quickchartButtonEl.classList.add('colab-df-quickchart-complete');\n",
       "    }\n",
       "    (() => {\n",
       "      let quickchartButtonEl =\n",
       "        document.querySelector('#df-60723647-bd44-46c9-bf03-4d620139f839 button');\n",
       "      quickchartButtonEl.style.display =\n",
       "        google.colab.kernel.accessAllowed ? 'block' : 'none';\n",
       "    })();\n",
       "  </script>\n",
       "</div>\n",
       "    </div>\n",
       "  </div>\n"
      ],
      "text/plain": [
       "                               Accuracy  Balanced Accuracy  ROC AUC  F1 Score  \\\n",
       "Model                                                                           \n",
       "LGBMClassifier                     0.92               0.92     0.92      0.92   \n",
       "XGBClassifier                      0.92               0.92     0.92      0.92   \n",
       "RandomForestClassifier             0.92               0.92     0.92      0.92   \n",
       "ExtraTreesClassifier               0.92               0.92     0.92      0.92   \n",
       "BaggingClassifier                  0.91               0.90     0.90      0.91   \n",
       "SVC                                0.89               0.89     0.89      0.89   \n",
       "KNeighborsClassifier               0.89               0.89     0.89      0.89   \n",
       "LabelPropagation                   0.88               0.88     0.88      0.88   \n",
       "LabelSpreading                     0.88               0.88     0.88      0.88   \n",
       "DecisionTreeClassifier             0.88               0.88     0.88      0.88   \n",
       "AdaBoostClassifier                 0.87               0.87     0.87      0.87   \n",
       "LinearSVC                          0.86               0.86     0.86      0.86   \n",
       "CalibratedClassifierCV             0.86               0.86     0.86      0.86   \n",
       "NuSVC                              0.86               0.86     0.86      0.86   \n",
       "LogisticRegression                 0.86               0.86     0.86      0.86   \n",
       "ExtraTreeClassifier                0.85               0.85     0.85      0.85   \n",
       "SGDClassifier                      0.85               0.85     0.85      0.84   \n",
       "RidgeClassifier                    0.83               0.83     0.83      0.83   \n",
       "RidgeClassifierCV                  0.83               0.83     0.83      0.83   \n",
       "LinearDiscriminantAnalysis         0.83               0.83     0.83      0.83   \n",
       "PassiveAggressiveClassifier        0.82               0.83     0.83      0.82   \n",
       "Perceptron                         0.80               0.80     0.80      0.80   \n",
       "BernoulliNB                        0.76               0.76     0.76      0.76   \n",
       "NearestCentroid                    0.75               0.75     0.75      0.74   \n",
       "GaussianNB                         0.66               0.68     0.68      0.63   \n",
       "QuadraticDiscriminantAnalysis      0.64               0.65     0.65      0.59   \n",
       "DummyClassifier                    0.48               0.50     0.50      0.31   \n",
       "\n",
       "                               Time Taken  \n",
       "Model                                      \n",
       "LGBMClassifier                       0.55  \n",
       "XGBClassifier                        0.53  \n",
       "RandomForestClassifier               1.41  \n",
       "ExtraTreesClassifier                 1.19  \n",
       "BaggingClassifier                    0.69  \n",
       "SVC                                  7.68  \n",
       "KNeighborsClassifier                 0.32  \n",
       "LabelPropagation                     4.86  \n",
       "LabelSpreading                       7.76  \n",
       "DecisionTreeClassifier               0.15  \n",
       "AdaBoostClassifier                   0.77  \n",
       "LinearSVC                            2.09  \n",
       "CalibratedClassifierCV               7.94  \n",
       "NuSVC                                8.33  \n",
       "LogisticRegression                   0.22  \n",
       "ExtraTreeClassifier                  0.05  \n",
       "SGDClassifier                        0.21  \n",
       "RidgeClassifier                      0.08  \n",
       "RidgeClassifierCV                    0.11  \n",
       "LinearDiscriminantAnalysis           0.15  \n",
       "PassiveAggressiveClassifier          0.08  \n",
       "Perceptron                           0.08  \n",
       "BernoulliNB                          0.07  \n",
       "NearestCentroid                      0.07  \n",
       "GaussianNB                           0.06  \n",
       "QuadraticDiscriminantAnalysis        0.12  \n",
       "DummyClassifier                      0.04  "
      ]
     },
     "execution_count": 13,
     "metadata": {},
     "output_type": "execute_result"
    }
   ],
   "source": [
    "clf = LazyClassifier(verbose=0,ignore_warnings=True, custom_metric=None)\n",
    "models,predictions = clf.fit(X_train, X_test, y_train, y_test)\n",
    "models"
   ]
  },
  {
   "cell_type": "code",
   "execution_count": null,
   "metadata": {},
   "outputs": [],
   "source": []
  },
  {
   "cell_type": "markdown",
   "metadata": {
    "id": "EY8La7oQOndC"
   },
   "source": [
    "## SVM"
   ]
  },
  {
   "cell_type": "markdown",
   "metadata": {
    "id": "Pu0UVSgkOvVq"
   },
   "source": [
    "### HPO for SVM"
   ]
  },
  {
   "cell_type": "markdown",
   "metadata": {
    "id": "4l744t8gOy_L"
   },
   "source": [
    "### Evaluation of SVM"
   ]
  }
 ],
 "metadata": {
  "colab": {
   "provenance": []
  },
  "kernelspec": {
   "display_name": "Python 3",
   "language": "python",
   "name": "python3"
  },
  "language_info": {
   "codemirror_mode": {
    "name": "ipython",
    "version": 3
   },
   "file_extension": ".py",
   "mimetype": "text/x-python",
   "name": "python",
   "nbconvert_exporter": "python",
   "pygments_lexer": "ipython3",
   "version": "3.8.5"
  }
 },
 "nbformat": 4,
 "nbformat_minor": 1
}
